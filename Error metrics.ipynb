{
 "cells": [
  {
   "cell_type": "markdown",
   "id": "a998a871",
   "metadata": {},
   "source": [
    "# classification problem metrics"
   ]
  },
  {
   "cell_type": "markdown",
   "id": "4a7b34ca",
   "metadata": {},
   "source": [
    "# confusion matrix"
   ]
  },
  {
   "cell_type": "markdown",
   "id": "a2d665be",
   "metadata": {},
   "source": [
    " confustion matrix is way to evaluate the performance of a classifier"
   ]
  },
  {
   "attachments": {
    "confusion.png": {
     "image/png": "[encoded data removed]"
    }
   },
   "cell_type": "markdown",
   "id": "45cf70b0",
   "metadata": {},
   "source": [
    "![confusion.png](attachment:confusion.png)"
   ]
  },
  {
   "cell_type": "markdown",
   "id": "aec6d55b",
   "metadata": {},
   "source": [
    "TP=>predicted positive and it’s true.\n",
    "FP=>predicted positive and it’s false(Type 1 Error)\n",
    "TN=>You predicted negative and it’s True\n",
    "FN=>You predicted negative and it’s false(Type 2 Error)"
   ]
  },
  {
   "cell_type": "markdown",
   "id": "cfe70dcc",
   "metadata": {},
   "source": [
    "# Precision"
   ]
  },
  {
   "attachments": {
    "precision.png": {
     "image/png": "[encoded data removed]"
    }
   },
   "cell_type": "markdown",
   "id": "1504e65f",
   "metadata": {},
   "source": [
    "![precision.png](attachment:precision.png)"
   ]
  },
  {
   "cell_type": "markdown",
   "id": "93d333f5",
   "metadata": {},
   "source": [
    "# Recall"
   ]
  },
  {
   "attachments": {
    "Recall.png": {
     "image/png": "[encoded data removed]"
    }
   },
   "cell_type": "markdown",
   "id": "072257b5",
   "metadata": {},
   "source": [
    "![Recall.png](attachment:Recall.png)"
   ]
  },
  {
   "cell_type": "markdown",
   "id": "ce2d6ef1",
   "metadata": {},
   "source": [
    "Precision is important when False positive are important(means less) ex: Advertisement or movie recommendations"
   ]
  },
  {
   "cell_type": "markdown",
   "id": "46f65e15",
   "metadata": {},
   "source": [
    "Recall is important when False negatives are important(means less) ex: desease diagnosis"
   ]
  },
  {
   "cell_type": "code",
   "execution_count": null,
   "id": "b00ba508",
   "metadata": {},
   "outputs": [],
   "source": [
    "accuracy_score=(TP+TN)/(TP+TN+FP+FN)"
   ]
  },
  {
   "cell_type": "code",
   "execution_count": null,
   "id": "dd2b5ddf",
   "metadata": {},
   "outputs": [],
   "source": []
  },
  {
   "cell_type": "code",
   "execution_count": null,
   "id": "ce56b7db",
   "metadata": {},
   "outputs": [],
   "source": []
  },
  {
   "cell_type": "code",
   "execution_count": null,
   "id": "fd73bc31",
   "metadata": {},
   "outputs": [],
   "source": []
  },
  {
   "cell_type": "markdown",
   "id": "4c9ec048",
   "metadata": {},
   "source": [
    "# Regression problem metrics"
   ]
  },
  {
   "cell_type": "markdown",
   "id": "c45d712c",
   "metadata": {},
   "source": [
    "# Mean Squared Error"
   ]
  },
  {
   "cell_type": "markdown",
   "id": "d38f964e",
   "metadata": {},
   "source": [
    "The MSE is calculated as the mean or average of the squared differences between predicted and expected target values in a dataset."
   ]
  },
  {
   "cell_type": "markdown",
   "id": "303a27cc",
   "metadata": {},
   "source": [
    "MSE = 1 / N * sum for i to N (y_i – yhat_i)^2"
   ]
  },
  {
   "cell_type": "markdown",
   "id": "8b97e293",
   "metadata": {},
   "source": [
    "# Root Mean Squared Error"
   ]
  },
  {
   "cell_type": "markdown",
   "id": "ef7927dd",
   "metadata": {},
   "source": [
    "the square root of the error is calculated"
   ]
  },
  {
   "cell_type": "markdown",
   "id": "f3b66897",
   "metadata": {},
   "source": [
    "RMSE = sqrt(1 / N * sum for i to N (y_i – yhat_i)^2)"
   ]
  },
  {
   "cell_type": "markdown",
   "id": "1f838af9",
   "metadata": {},
   "source": [
    "It is common to use MSE loss to train a regression predictive model, and to use RMSE to evaluate and report its performance"
   ]
  },
  {
   "cell_type": "markdown",
   "id": "42e8fd49",
   "metadata": {},
   "source": [
    "# Mean Absolute Error"
   ]
  },
  {
   "cell_type": "markdown",
   "id": "c1d4de9e",
   "metadata": {},
   "source": [
    " the MAE score is calculated as the average of the absolute error values"
   ]
  },
  {
   "cell_type": "markdown",
   "id": "469a9d95",
   "metadata": {},
   "source": [
    "MAE = 1 / N * sum for i to N abs(y_i – yhat_i)"
   ]
  },
  {
   "cell_type": "markdown",
   "id": "d435d463",
   "metadata": {},
   "source": [
    "It is mainly used for IOT kind of applications"
   ]
  },
  {
   "cell_type": "code",
   "execution_count": null,
   "id": "b3baa105",
   "metadata": {},
   "outputs": [],
   "source": [
    "Bias => it is the error we get on applying the training dataset"
   ]
  },
  {
   "cell_type": "code",
   "execution_count": null,
   "id": "d6dd6bd8",
   "metadata": {},
   "outputs": [],
   "source": [
    "Variance => it is the error we get on applying the testing dataset"
   ]
  }
 ],
 "metadata": {
  "kernelspec": {
   "display_name": "Python 3 (ipykernel)",
   "language": "python",
   "name": "python3"
  },
  "language_info": {
   "codemirror_mode": {
    "name": "ipython",
    "version": 3
   },
   "file_extension": ".py",
   "mimetype": "text/x-python",
   "name": "python",
   "nbconvert_exporter": "python",
   "pygments_lexer": "ipython3",
   "version": "3.9.12"
  }
 },
 "nbformat": 4,
 "nbformat_minor": 5
}
