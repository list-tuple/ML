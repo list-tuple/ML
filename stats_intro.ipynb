{
 "cells": [
  {
   "cell_type": "code",
   "execution_count": 1,
   "id": "5ead6da0",
   "metadata": {},
   "outputs": [],
   "source": [
    "import pandas as pd"
   ]
  },
  {
   "cell_type": "code",
   "execution_count": 2,
   "id": "706a20f0",
   "metadata": {},
   "outputs": [],
   "source": [
    "df=pd.read_excel(\"Global Superstore.xls\",\"Orders\")"
   ]
  },
  {
   "cell_type": "code",
   "execution_count": 3,
   "id": "3fa608e6",
   "metadata": {},
   "outputs": [
    {
     "data": {
      "text/plain": [
       "Index(['Row ID', 'Order ID', 'Order Date', 'Ship Date', 'Ship Mode',\n",
       "       'Customer ID', 'Customer Name', 'Segment', 'City', 'State', 'Country',\n",
       "       'Postal Code', 'Market', 'Region', 'Product ID', 'Category',\n",
       "       'Sub-Category', 'Product Name', 'Sales', 'Quantity', 'Discount',\n",
       "       'Profit', 'Shipping Cost', 'Order Priority'],\n",
       "      dtype='object')"
      ]
     },
     "execution_count": 3,
     "metadata": {},
     "output_type": "execute_result"
    }
   ],
   "source": [
    "df.columns"
   ]
  },
  {
   "cell_type": "code",
   "execution_count": 4,
   "id": "0c3bf30e",
   "metadata": {},
   "outputs": [
    {
     "data": {
      "text/plain": [
       "Row ID                     int64\n",
       "Order ID                  object\n",
       "Order Date        datetime64[ns]\n",
       "Ship Date         datetime64[ns]\n",
       "Ship Mode                 object\n",
       "Customer ID               object\n",
       "Customer Name             object\n",
       "Segment                   object\n",
       "City                      object\n",
       "State                     object\n",
       "Country                   object\n",
       "Postal Code              float64\n",
       "Market                    object\n",
       "Region                    object\n",
       "Product ID                object\n",
       "Category                  object\n",
       "Sub-Category              object\n",
       "Product Name              object\n",
       "Sales                    float64\n",
       "Quantity                   int64\n",
       "Discount                 float64\n",
       "Profit                   float64\n",
       "Shipping Cost            float64\n",
       "Order Priority            object\n",
       "dtype: object"
      ]
     },
     "execution_count": 4,
     "metadata": {},
     "output_type": "execute_result"
    }
   ],
   "source": [
    "df.dtypes"
   ]
  },
  {
   "cell_type": "markdown",
   "id": "5a75be7f",
   "metadata": {},
   "source": [
    "Mean:The most basic estimate is the mean, or average value. The mean is\n",
    "the sum of all the values divided by the number of values."
   ]
  },
  {
   "attachments": {
    "mean.PNG": {
     "image/png": "[encoded data removed]"
    }
   },
   "cell_type": "markdown",
   "id": "c12162ac",
   "metadata": {},
   "source": [
    "![mean.PNG](attachment:mean.PNG)"
   ]
  },
  {
   "cell_type": "code",
   "execution_count": 5,
   "id": "4a8a0775",
   "metadata": {},
   "outputs": [
    {
     "data": {
      "text/plain": [
       "246.49058120258366"
      ]
     },
     "execution_count": 5,
     "metadata": {},
     "output_type": "execute_result"
    }
   ],
   "source": [
    "df[\"Sales\"].mean()"
   ]
  },
  {
   "cell_type": "code",
   "execution_count": 6,
   "id": "a6b7c933",
   "metadata": {},
   "outputs": [
    {
     "data": {
      "text/plain": [
       "28.61098247767587"
      ]
     },
     "execution_count": 6,
     "metadata": {},
     "output_type": "execute_result"
    }
   ],
   "source": [
    "df[\"Profit\"].mean()"
   ]
  },
  {
   "cell_type": "code",
   "execution_count": 7,
   "id": "b66ebf09",
   "metadata": {},
   "outputs": [
    {
     "data": {
      "text/plain": [
       "26.375817964516113"
      ]
     },
     "execution_count": 7,
     "metadata": {},
     "output_type": "execute_result"
    }
   ],
   "source": [
    "df[\"Shipping Cost\"].mean()"
   ]
  },
  {
   "cell_type": "markdown",
   "id": "68c08616",
   "metadata": {},
   "source": [
    "Median: The median is the middle number on a sorted list of the data. If there is an even\n",
    "number of data values, the middle value is one that is not actually in the data set,\n",
    "but rather the average of the two values that divide the sorted data into upper and\n",
    "lower halves. "
   ]
  },
  {
   "cell_type": "code",
   "execution_count": 8,
   "id": "50272b3b",
   "metadata": {},
   "outputs": [
    {
     "data": {
      "text/plain": [
       "85.053"
      ]
     },
     "execution_count": 8,
     "metadata": {},
     "output_type": "execute_result"
    }
   ],
   "source": [
    "df[\"Sales\"].median()"
   ]
  },
  {
   "cell_type": "code",
   "execution_count": 9,
   "id": "10661bef",
   "metadata": {},
   "outputs": [
    {
     "data": {
      "text/plain": [
       "9.24"
      ]
     },
     "execution_count": 9,
     "metadata": {},
     "output_type": "execute_result"
    }
   ],
   "source": [
    "df[\"Profit\"].median()"
   ]
  },
  {
   "cell_type": "code",
   "execution_count": 10,
   "id": "aa30e280",
   "metadata": {},
   "outputs": [
    {
     "data": {
      "text/plain": [
       "7.79"
      ]
     },
     "execution_count": 10,
     "metadata": {},
     "output_type": "execute_result"
    }
   ],
   "source": [
    "df[\"Shipping Cost\"].median()"
   ]
  },
  {
   "cell_type": "markdown",
   "id": "fe0af5b4",
   "metadata": {},
   "source": [
    "Mode: The most commonly occurring category or value in a data set."
   ]
  },
  {
   "cell_type": "code",
   "execution_count": 11,
   "id": "63715f19",
   "metadata": {},
   "outputs": [
    {
     "data": {
      "text/plain": [
       "0    12.96\n",
       "Name: Sales, dtype: float64"
      ]
     },
     "execution_count": 11,
     "metadata": {},
     "output_type": "execute_result"
    }
   ],
   "source": [
    "df[\"Sales\"].mode()"
   ]
  },
  {
   "cell_type": "code",
   "execution_count": 12,
   "id": "92f4abdd",
   "metadata": {},
   "outputs": [
    {
     "data": {
      "text/plain": [
       "0    0.0\n",
       "Name: Profit, dtype: float64"
      ]
     },
     "execution_count": 12,
     "metadata": {},
     "output_type": "execute_result"
    }
   ],
   "source": [
    "df[\"Profit\"].mode()"
   ]
  },
  {
   "cell_type": "markdown",
   "id": "098b7fed",
   "metadata": {},
   "source": [
    "Variance: The sum of squared deviations from the mean divided by n – 1 where n\n",
    "is the number of data values"
   ]
  },
  {
   "cell_type": "code",
   "execution_count": 13,
   "id": "a07745e4",
   "metadata": {},
   "outputs": [
    {
     "data": {
      "text/plain": [
       "237719.98079709228"
      ]
     },
     "execution_count": 13,
     "metadata": {},
     "output_type": "execute_result"
    }
   ],
   "source": [
    "df[\"Sales\"].var()"
   ]
  },
  {
   "cell_type": "code",
   "execution_count": 14,
   "id": "d721f3e2",
   "metadata": {},
   "outputs": [
    {
     "data": {
      "text/plain": [
       "30394.774483046996"
      ]
     },
     "execution_count": 14,
     "metadata": {},
     "output_type": "execute_result"
    }
   ],
   "source": [
    "df[\"Profit\"].var()"
   ]
  },
  {
   "cell_type": "markdown",
   "id": "617d80c2",
   "metadata": {},
   "source": [
    "Standard Deviation: The square root of the variance."
   ]
  },
  {
   "attachments": {
    "SD.PNG": {
     "image/png": "[encoded data removed]"
    }
   },
   "cell_type": "markdown",
   "id": "b4b794b2",
   "metadata": {},
   "source": [
    "![SD.PNG](attachment:SD.PNG)"
   ]
  },
  {
   "cell_type": "code",
   "execution_count": 15,
   "id": "3f72fdbf",
   "metadata": {},
   "outputs": [
    {
     "data": {
      "text/plain": [
       "487.5653605385562"
      ]
     },
     "execution_count": 15,
     "metadata": {},
     "output_type": "execute_result"
    }
   ],
   "source": [
    "df[\"Sales\"].std()"
   ]
  },
  {
   "cell_type": "code",
   "execution_count": 16,
   "id": "fbbbe02a",
   "metadata": {},
   "outputs": [
    {
     "data": {
      "text/plain": [
       "174.34097190002984"
      ]
     },
     "execution_count": 16,
     "metadata": {},
     "output_type": "execute_result"
    }
   ],
   "source": [
    "df[\"Profit\"].std()"
   ]
  },
  {
   "cell_type": "markdown",
   "id": "aa181abb",
   "metadata": {},
   "source": [
    "Range: The difference between the largest and the smallest value in a data set."
   ]
  },
  {
   "cell_type": "code",
   "execution_count": 17,
   "id": "0ad6eb07",
   "metadata": {},
   "outputs": [
    {
     "data": {
      "text/plain": [
       "count    51290.000000\n",
       "mean       246.490581\n",
       "std        487.565361\n",
       "min          0.444000\n",
       "25%         30.758625\n",
       "50%         85.053000\n",
       "75%        251.053200\n",
       "max      22638.480000\n",
       "Name: Sales, dtype: float64"
      ]
     },
     "execution_count": 17,
     "metadata": {},
     "output_type": "execute_result"
    }
   ],
   "source": [
    "df[\"Sales\"].describe()"
   ]
  },
  {
   "cell_type": "code",
   "execution_count": 18,
   "id": "1831cbfe",
   "metadata": {},
   "outputs": [
    {
     "data": {
      "text/plain": [
       "count    51290.000000\n",
       "mean        28.610982\n",
       "std        174.340972\n",
       "min      -6599.978000\n",
       "25%          0.000000\n",
       "50%          9.240000\n",
       "75%         36.810000\n",
       "max       8399.976000\n",
       "Name: Profit, dtype: float64"
      ]
     },
     "execution_count": 18,
     "metadata": {},
     "output_type": "execute_result"
    }
   ],
   "source": [
    "df[\"Profit\"].describe()"
   ]
  },
  {
   "cell_type": "markdown",
   "id": "0ee39c84",
   "metadata": {},
   "source": [
    "Interquartile range: The difference between the 75th percentile and the 25th percentile."
   ]
  },
  {
   "cell_type": "markdown",
   "id": "a473377e",
   "metadata": {},
   "source": [
    "Percentile: a k-th percentile (percentile score or centile) is a score below which a given percentage k of scores in its frequency distribution falls (exclusive definition) or a score at or below which a given percentage falls (inclusive definition). For example, the 50th percentile (the median) is the score below which (exclusive) or at or below which (inclusive) 50% of the scores in the distribution may be found."
   ]
  },
  {
   "attachments": {
    "Percentile.PNG": {
     "image/png": "[encoded data removed]"
    }
   },
   "cell_type": "markdown",
   "id": "9039d8db",
   "metadata": {},
   "source": [
    "![Percentile.PNG](attachment:Percentile.PNG)"
   ]
  },
  {
   "cell_type": "markdown",
   "id": "b902247b",
   "metadata": {},
   "source": [
    "Normal Distribution:\n",
    "    Generally, the normal distribution has any positive standard deviation. We know that the mean helps to determine the line of symmetry of a graph, whereas the standard deviation helps to know how far the data are spread out. If the standard deviation is smaller, the data are somewhat close to each other and the graph becomes narrower. If the standard deviation is larger, the data are dispersed more, and the graph becomes wider. The standard deviations are used to subdivide the area under the normal curve. Each subdivided section defines the percentage of data, which falls into the specific region of a graph.\n",
    "\n",
    "Using 1 standard deviation, the Empirical Rule states that,\n",
    "\n",
    "Approximately 68% of the data falls within one standard deviation of the mean. (i.e., Between Mean- one Standard Deviation and Mean + one standard deviation)\n",
    "Approximately 95% of the data falls within two standard deviations of the mean. (i.e., Between Mean- two Standard Deviation and Mean + two standard deviations)\n",
    "Approximately 99.7% of the data fall within three standard deviations of the mean. (i.e., Between Mean- three Standard Deviation and Mean + three standard deviations)"
   ]
  },
  {
   "attachments": {
    "Normal_distribution.PNG": {
     "image/png": "[encoded data removed]"
    }
   },
   "cell_type": "markdown",
   "id": "95511724",
   "metadata": {},
   "source": [
    "![Normal_distribution.PNG](attachment:Normal_distribution.PNG)"
   ]
  },
  {
   "cell_type": "markdown",
   "id": "874f3c28",
   "metadata": {},
   "source": [
    "Kurtosis:Kurtosis is a statistical measure that defines how heavily the tails of a distribution differ from the tails of a normal distribution.Kurtosis is a statistic that measures the extent to which a distribution contains outliers.\n",
    "A positive value tells you that you have heavy-tails (i.e. a lot of data in your tails).\n",
    "A negative value means that you have light-tails (i.e. little data in your tails)."
   ]
  },
  {
   "attachments": {
    "kurtosis-excel-2013.jpg": {
     "image/jpeg": "[encoded data removed]"
    }
   },
   "cell_type": "markdown",
   "id": "2e4a4187",
   "metadata": {},
   "source": [
    "![kurtosis-excel-2013.jpg](attachment:kurtosis-excel-2013.jpg)"
   ]
  },
  {
   "cell_type": "code",
   "execution_count": 19,
   "id": "84e9210b",
   "metadata": {},
   "outputs": [
    {
     "data": {
      "text/plain": [
       "176.7311999336456"
      ]
     },
     "execution_count": 19,
     "metadata": {},
     "output_type": "execute_result"
    }
   ],
   "source": [
    "df[\"Sales\"].kurt()"
   ]
  },
  {
   "cell_type": "code",
   "execution_count": 20,
   "id": "8b03a0a3",
   "metadata": {},
   "outputs": [
    {
     "data": {
      "text/plain": [
       "291.4110895698066"
      ]
     },
     "execution_count": 20,
     "metadata": {},
     "output_type": "execute_result"
    }
   ],
   "source": [
    "df[\"Profit\"].kurt()"
   ]
  },
  {
   "cell_type": "code",
   "execution_count": 21,
   "id": "03a28e47",
   "metadata": {},
   "outputs": [],
   "source": [
    "import seaborn as sns\n",
    "\n",
    "%matplotlib inline"
   ]
  },
  {
   "cell_type": "code",
   "execution_count": 22,
   "id": "511f562f",
   "metadata": {},
   "outputs": [
    {
     "name": "stderr",
     "output_type": "stream",
     "text": [
      "C:\\Users\\Lalith Eswar\\anaconda3\\lib\\site-packages\\seaborn\\distributions.py:2619: FutureWarning: `distplot` is a deprecated function and will be removed in a future version. Please adapt your code to use either `displot` (a figure-level function with similar flexibility) or `histplot` (an axes-level function for histograms).\n",
      "  warnings.warn(msg, FutureWarning)\n"
     ]
    },
    {
     "data": {
      "text/plain": [
       "<AxesSubplot:xlabel='Profit', ylabel='Density'>"
      ]
     },
     "execution_count": 22,
     "metadata": {},
     "output_type": "execute_result"
    },
    {
     "data": {
      "image/png": "[encoded data removed]",
      "text/plain": [
       "<Figure size 432x288 with 1 Axes>"
      ]
     },
     "metadata": {
      "needs_background": "light"
     },
     "output_type": "display_data"
    }
   ],
   "source": [
    "sns.distplot(df[\"Profit\"])"
   ]
  },
  {
   "cell_type": "code",
   "execution_count": 23,
   "id": "0abfbfa5",
   "metadata": {},
   "outputs": [
    {
     "name": "stderr",
     "output_type": "stream",
     "text": [
      "C:\\Users\\Lalith Eswar\\anaconda3\\lib\\site-packages\\seaborn\\distributions.py:2619: FutureWarning: `distplot` is a deprecated function and will be removed in a future version. Please adapt your code to use either `displot` (a figure-level function with similar flexibility) or `histplot` (an axes-level function for histograms).\n",
      "  warnings.warn(msg, FutureWarning)\n"
     ]
    },
    {
     "data": {
      "text/plain": [
       "<AxesSubplot:xlabel='Sales', ylabel='Density'>"
      ]
     },
     "execution_count": 23,
     "metadata": {},
     "output_type": "execute_result"
    },
    {
     "data": {
      "image/png": "[encoded data removed]",
      "text/plain": [
       "<Figure size 432x288 with 1 Axes>"
      ]
     },
     "metadata": {
      "needs_background": "light"
     },
     "output_type": "display_data"
    }
   ],
   "source": [
    "sns.distplot(df[\"Sales\"])"
   ]
  },
  {
   "cell_type": "markdown",
   "id": "446c279b",
   "metadata": {},
   "source": [
    "Skew: Skewness measures the deviation of a random variable’s given distribution from the normal distribution, which is symmetrical on both sides.\n",
    "\n"
   ]
  },
  {
   "cell_type": "markdown",
   "id": "f174131e",
   "metadata": {},
   "source": [
    "Data that are skewed to the right have a long tail that extends to the right.\n",
    "Always: mean greater than the mode\n",
    "Always: median greater than the mode\n",
    "Most of the time: mean greater than median"
   ]
  },
  {
   "cell_type": "markdown",
   "id": "8d3191b5",
   "metadata": {},
   "source": [
    "Data that are skewed to the left have a long tail that extends to the left. \n",
    "Always: mean less than the mode\n",
    "Always: median less than the mode\n",
    "Most of the time: mean less than median"
   ]
  },
  {
   "cell_type": "code",
   "execution_count": 24,
   "id": "dd947cc8",
   "metadata": {},
   "outputs": [
    {
     "data": {
      "text/plain": [
       "8.138080021220542"
      ]
     },
     "execution_count": 24,
     "metadata": {},
     "output_type": "execute_result"
    }
   ],
   "source": [
    "df[\"Sales\"].skew()"
   ]
  },
  {
   "cell_type": "code",
   "execution_count": 25,
   "id": "bc3e73b6",
   "metadata": {},
   "outputs": [
    {
     "data": {
      "text/plain": [
       "4.157188532777364"
      ]
     },
     "execution_count": 25,
     "metadata": {},
     "output_type": "execute_result"
    }
   ],
   "source": [
    "df[\"Profit\"].skew()"
   ]
  },
  {
   "cell_type": "code",
   "execution_count": null,
   "id": "150199ce",
   "metadata": {},
   "outputs": [],
   "source": []
  }
 ],
 "metadata": {
  "kernelspec": {
   "display_name": "Python 3 (ipykernel)",
   "language": "python",
   "name": "python3"
  },
  "language_info": {
   "codemirror_mode": {
    "name": "ipython",
    "version": 3
   },
   "file_extension": ".py",
   "mimetype": "text/x-python",
   "name": "python",
   "nbconvert_exporter": "python",
   "pygments_lexer": "ipython3",
   "version": "3.9.12"
  }
 },
 "nbformat": 4,
 "nbformat_minor": 5
}
