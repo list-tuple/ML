{
 "cells": [
  {
   "cell_type": "code",
   "execution_count": 1,
   "id": "c3f48888",
   "metadata": {},
   "outputs": [],
   "source": [
    "import pandas as pd"
   ]
  },
  {
   "cell_type": "code",
   "execution_count": 2,
   "id": "bbf5d4d3",
   "metadata": {},
   "outputs": [],
   "source": [
    "df=pd.read_excel(\"Global Superstore.xls\",\"Orders\")"
   ]
  },
  {
   "cell_type": "code",
   "execution_count": 3,
   "id": "5ce10514",
   "metadata": {},
   "outputs": [
    {
     "data": {
      "text/plain": [
       "(51290, 24)"
      ]
     },
     "execution_count": 3,
     "metadata": {},
     "output_type": "execute_result"
    }
   ],
   "source": [
    "df.shape"
   ]
  },
  {
   "cell_type": "code",
   "execution_count": 4,
   "id": "559412c5",
   "metadata": {},
   "outputs": [
    {
     "data": {
      "text/plain": [
       "Index(['Row ID', 'Order ID', 'Order Date', 'Ship Date', 'Ship Mode',\n",
       "       'Customer ID', 'Customer Name', 'Segment', 'City', 'State', 'Country',\n",
       "       'Postal Code', 'Market', 'Region', 'Product ID', 'Category',\n",
       "       'Sub-Category', 'Product Name', 'Sales', 'Quantity', 'Discount',\n",
       "       'Profit', 'Shipping Cost', 'Order Priority'],\n",
       "      dtype='object')"
      ]
     },
     "execution_count": 4,
     "metadata": {},
     "output_type": "execute_result"
    }
   ],
   "source": [
    "df.columns"
   ]
  },
  {
   "cell_type": "code",
   "execution_count": 5,
   "id": "1904c606",
   "metadata": {},
   "outputs": [
    {
     "data": {
      "text/plain": [
       "Row ID                     int64\n",
       "Order ID                  object\n",
       "Order Date        datetime64[ns]\n",
       "Ship Date         datetime64[ns]\n",
       "Ship Mode                 object\n",
       "Customer ID               object\n",
       "Customer Name             object\n",
       "Segment                   object\n",
       "City                      object\n",
       "State                     object\n",
       "Country                   object\n",
       "Postal Code              float64\n",
       "Market                    object\n",
       "Region                    object\n",
       "Product ID                object\n",
       "Category                  object\n",
       "Sub-Category              object\n",
       "Product Name              object\n",
       "Sales                    float64\n",
       "Quantity                   int64\n",
       "Discount                 float64\n",
       "Profit                   float64\n",
       "Shipping Cost            float64\n",
       "Order Priority            object\n",
       "dtype: object"
      ]
     },
     "execution_count": 5,
     "metadata": {},
     "output_type": "execute_result"
    }
   ],
   "source": [
    "df.dtypes"
   ]
  },
  {
   "cell_type": "code",
   "execution_count": 6,
   "id": "ec7a663b",
   "metadata": {},
   "outputs": [],
   "source": [
    "from matplotlib import pyplot as plt\n",
    "from matplotlib import style\n",
    "import seaborn as sns\n",
    "%matplotlib inline"
   ]
  },
  {
   "cell_type": "markdown",
   "id": "27446b7a",
   "metadata": {},
   "source": [
    "# values outside interquartile range(25% to 75%) is called outlier"
   ]
  },
  {
   "cell_type": "code",
   "execution_count": 7,
   "id": "dffe5c39",
   "metadata": {},
   "outputs": [
    {
     "data": {
      "text/html": [
       "<div>\n",
       "<style scoped>\n",
       "    .dataframe tbody tr th:only-of-type {\n",
       "        vertical-align: middle;\n",
       "    }\n",
       "\n",
       "    .dataframe tbody tr th {\n",
       "        vertical-align: top;\n",
       "    }\n",
       "\n",
       "    .dataframe thead th {\n",
       "        text-align: right;\n",
       "    }\n",
       "</style>\n",
       "<table border=\"1\" class=\"dataframe\">\n",
       "  <thead>\n",
       "    <tr style=\"text-align: right;\">\n",
       "      <th></th>\n",
       "      <th>Row ID</th>\n",
       "      <th>Postal Code</th>\n",
       "      <th>Sales</th>\n",
       "      <th>Quantity</th>\n",
       "      <th>Discount</th>\n",
       "      <th>Profit</th>\n",
       "      <th>Shipping Cost</th>\n",
       "    </tr>\n",
       "  </thead>\n",
       "  <tbody>\n",
       "    <tr>\n",
       "      <th>count</th>\n",
       "      <td>51290.00000</td>\n",
       "      <td>9994.000000</td>\n",
       "      <td>51290.000000</td>\n",
       "      <td>51290.000000</td>\n",
       "      <td>51290.000000</td>\n",
       "      <td>51290.000000</td>\n",
       "      <td>51290.000000</td>\n",
       "    </tr>\n",
       "    <tr>\n",
       "      <th>mean</th>\n",
       "      <td>25645.50000</td>\n",
       "      <td>55190.379428</td>\n",
       "      <td>246.490581</td>\n",
       "      <td>3.476545</td>\n",
       "      <td>0.142908</td>\n",
       "      <td>28.610982</td>\n",
       "      <td>26.375818</td>\n",
       "    </tr>\n",
       "    <tr>\n",
       "      <th>std</th>\n",
       "      <td>14806.29199</td>\n",
       "      <td>32063.693350</td>\n",
       "      <td>487.565361</td>\n",
       "      <td>2.278766</td>\n",
       "      <td>0.212280</td>\n",
       "      <td>174.340972</td>\n",
       "      <td>57.296810</td>\n",
       "    </tr>\n",
       "    <tr>\n",
       "      <th>min</th>\n",
       "      <td>1.00000</td>\n",
       "      <td>1040.000000</td>\n",
       "      <td>0.444000</td>\n",
       "      <td>1.000000</td>\n",
       "      <td>0.000000</td>\n",
       "      <td>-6599.978000</td>\n",
       "      <td>0.002000</td>\n",
       "    </tr>\n",
       "    <tr>\n",
       "      <th>25%</th>\n",
       "      <td>12823.25000</td>\n",
       "      <td>23223.000000</td>\n",
       "      <td>30.758625</td>\n",
       "      <td>2.000000</td>\n",
       "      <td>0.000000</td>\n",
       "      <td>0.000000</td>\n",
       "      <td>2.610000</td>\n",
       "    </tr>\n",
       "    <tr>\n",
       "      <th>50%</th>\n",
       "      <td>25645.50000</td>\n",
       "      <td>56430.500000</td>\n",
       "      <td>85.053000</td>\n",
       "      <td>3.000000</td>\n",
       "      <td>0.000000</td>\n",
       "      <td>9.240000</td>\n",
       "      <td>7.790000</td>\n",
       "    </tr>\n",
       "    <tr>\n",
       "      <th>75%</th>\n",
       "      <td>38467.75000</td>\n",
       "      <td>90008.000000</td>\n",
       "      <td>251.053200</td>\n",
       "      <td>5.000000</td>\n",
       "      <td>0.200000</td>\n",
       "      <td>36.810000</td>\n",
       "      <td>24.450000</td>\n",
       "    </tr>\n",
       "    <tr>\n",
       "      <th>max</th>\n",
       "      <td>51290.00000</td>\n",
       "      <td>99301.000000</td>\n",
       "      <td>22638.480000</td>\n",
       "      <td>14.000000</td>\n",
       "      <td>0.850000</td>\n",
       "      <td>8399.976000</td>\n",
       "      <td>933.570000</td>\n",
       "    </tr>\n",
       "  </tbody>\n",
       "</table>\n",
       "</div>"
      ],
      "text/plain": [
       "            Row ID   Postal Code         Sales      Quantity      Discount  \\\n",
       "count  51290.00000   9994.000000  51290.000000  51290.000000  51290.000000   \n",
       "mean   25645.50000  55190.379428    246.490581      3.476545      0.142908   \n",
       "std    14806.29199  32063.693350    487.565361      2.278766      0.212280   \n",
       "min        1.00000   1040.000000      0.444000      1.000000      0.000000   \n",
       "25%    12823.25000  23223.000000     30.758625      2.000000      0.000000   \n",
       "50%    25645.50000  56430.500000     85.053000      3.000000      0.000000   \n",
       "75%    38467.75000  90008.000000    251.053200      5.000000      0.200000   \n",
       "max    51290.00000  99301.000000  22638.480000     14.000000      0.850000   \n",
       "\n",
       "             Profit  Shipping Cost  \n",
       "count  51290.000000   51290.000000  \n",
       "mean      28.610982      26.375818  \n",
       "std      174.340972      57.296810  \n",
       "min    -6599.978000       0.002000  \n",
       "25%        0.000000       2.610000  \n",
       "50%        9.240000       7.790000  \n",
       "75%       36.810000      24.450000  \n",
       "max     8399.976000     933.570000  "
      ]
     },
     "execution_count": 7,
     "metadata": {},
     "output_type": "execute_result"
    }
   ],
   "source": [
    "df.describe()"
   ]
  },
  {
   "cell_type": "markdown",
   "id": "9151ea9f",
   "metadata": {},
   "source": [
    "# Outlier Treatment"
   ]
  },
  {
   "cell_type": "code",
   "execution_count": 8,
   "id": "6a6da68a",
   "metadata": {},
   "outputs": [
    {
     "data": {
      "text/plain": [
       "{'whiskers': [<matplotlib.lines.Line2D at 0x1f3a79fbe20>,\n",
       "  <matplotlib.lines.Line2D at 0x1f3a80ba130>],\n",
       " 'caps': [<matplotlib.lines.Line2D at 0x1f3a80ba4c0>,\n",
       "  <matplotlib.lines.Line2D at 0x1f3a80ba6d0>],\n",
       " 'boxes': [<matplotlib.lines.Line2D at 0x1f3a79fbb50>],\n",
       " 'medians': [<matplotlib.lines.Line2D at 0x1f3a80ba9a0>],\n",
       " 'fliers': [<matplotlib.lines.Line2D at 0x1f3a80bac70>],\n",
       " 'means': []}"
      ]
     },
     "execution_count": 8,
     "metadata": {},
     "output_type": "execute_result"
    },
    {
     "data": {
      "image/png": "[encoded data removed]",
      "text/plain": [
       "<Figure size 432x288 with 1 Axes>"
      ]
     },
     "metadata": {
      "needs_background": "light"
     },
     "output_type": "display_data"
    }
   ],
   "source": [
    "plt.boxplot(df[\"Profit\"])"
   ]
  },
  {
   "cell_type": "code",
   "execution_count": 9,
   "id": "8754cd71",
   "metadata": {},
   "outputs": [
    {
     "data": {
      "text/plain": [
       "0.10     -30.5712\n",
       "0.25       0.0000\n",
       "0.50       9.2400\n",
       "0.75      36.8100\n",
       "1.00    8399.9760\n",
       "Name: Profit, dtype: float64"
      ]
     },
     "execution_count": 9,
     "metadata": {},
     "output_type": "execute_result"
    }
   ],
   "source": [
    "df[\"Profit\"].quantile([0.1,0.25,0.5,0.75,1.0])"
   ]
  },
  {
   "cell_type": "code",
   "execution_count": 10,
   "id": "cbdbfe75",
   "metadata": {},
   "outputs": [
    {
     "data": {
      "text/plain": [
       "(51290, 24)"
      ]
     },
     "execution_count": 10,
     "metadata": {},
     "output_type": "execute_result"
    }
   ],
   "source": [
    "df.shape"
   ]
  },
  {
   "cell_type": "code",
   "execution_count": 11,
   "id": "3d156c22",
   "metadata": {},
   "outputs": [],
   "source": [
    "df_1=df[(df[\"Profit\"] >=0.0) & (df[\"Profit\"] <=36.8100)]"
   ]
  },
  {
   "cell_type": "code",
   "execution_count": 12,
   "id": "6b993f84",
   "metadata": {},
   "outputs": [
    {
     "data": {
      "text/plain": [
       "(25928, 24)"
      ]
     },
     "execution_count": 12,
     "metadata": {},
     "output_type": "execute_result"
    }
   ],
   "source": [
    "df_1.shape"
   ]
  },
  {
   "cell_type": "code",
   "execution_count": 13,
   "id": "99a91dcd",
   "metadata": {},
   "outputs": [
    {
     "data": {
      "text/plain": [
       "{'whiskers': [<matplotlib.lines.Line2D at 0x1f3a81ac9a0>,\n",
       "  <matplotlib.lines.Line2D at 0x1f3a81acc70>],\n",
       " 'caps': [<matplotlib.lines.Line2D at 0x1f3a81acf40>,\n",
       "  <matplotlib.lines.Line2D at 0x1f3a81bc250>],\n",
       " 'boxes': [<matplotlib.lines.Line2D at 0x1f3a81ac7f0>],\n",
       " 'medians': [<matplotlib.lines.Line2D at 0x1f3a81bc520>],\n",
       " 'fliers': [<matplotlib.lines.Line2D at 0x1f3a81bc7f0>],\n",
       " 'means': []}"
      ]
     },
     "execution_count": 13,
     "metadata": {},
     "output_type": "execute_result"
    },
    {
     "data": {
      "image/png": "[encoded data removed]",
      "text/plain": [
       "<Figure size 432x288 with 1 Axes>"
      ]
     },
     "metadata": {
      "needs_background": "light"
     },
     "output_type": "display_data"
    }
   ],
   "source": [
    "plt.boxplot(df_1[\"Profit\"])"
   ]
  },
  {
   "cell_type": "code",
   "execution_count": 14,
   "id": "7a1ef9a6",
   "metadata": {},
   "outputs": [
    {
     "data": {
      "text/plain": [
       "{'whiskers': [<matplotlib.lines.Line2D at 0x1f3a8216f40>,\n",
       "  <matplotlib.lines.Line2D at 0x1f3a8224250>],\n",
       " 'caps': [<matplotlib.lines.Line2D at 0x1f3a8224520>,\n",
       "  <matplotlib.lines.Line2D at 0x1f3a82247f0>],\n",
       " 'boxes': [<matplotlib.lines.Line2D at 0x1f3a8216c40>],\n",
       " 'medians': [<matplotlib.lines.Line2D at 0x1f3a8224ac0>],\n",
       " 'fliers': [<matplotlib.lines.Line2D at 0x1f3a8224d90>],\n",
       " 'means': []}"
      ]
     },
     "execution_count": 14,
     "metadata": {},
     "output_type": "execute_result"
    },
    {
     "data": {
      "image/png": "[encoded data removed]",
      "text/plain": [
       "<Figure size 432x288 with 1 Axes>"
      ]
     },
     "metadata": {
      "needs_background": "light"
     },
     "output_type": "display_data"
    }
   ],
   "source": [
    "plt.boxplot(df_1[\"Sales\"])"
   ]
  },
  {
   "cell_type": "code",
   "execution_count": 15,
   "id": "03ab7b5c",
   "metadata": {},
   "outputs": [
    {
     "data": {
      "text/plain": [
       "0.10      12.54\n",
       "0.25      23.64\n",
       "0.50      48.78\n",
       "0.75      96.18\n",
       "1.00    3616.50\n",
       "Name: Sales, dtype: float64"
      ]
     },
     "execution_count": 15,
     "metadata": {},
     "output_type": "execute_result"
    }
   ],
   "source": [
    "df_1[\"Sales\"].quantile([0.1,0.25,0.5,0.75,1.0])"
   ]
  },
  {
   "cell_type": "code",
   "execution_count": 16,
   "id": "a93d8a8d",
   "metadata": {},
   "outputs": [],
   "source": [
    "df_2=df_1[(df_1[\"Sales\"] >=23.64) & (df_1[\"Sales\"] <=96.18)]"
   ]
  },
  {
   "cell_type": "code",
   "execution_count": 17,
   "id": "e3ccb4a4",
   "metadata": {},
   "outputs": [
    {
     "data": {
      "text/plain": [
       "(12977, 24)"
      ]
     },
     "execution_count": 17,
     "metadata": {},
     "output_type": "execute_result"
    }
   ],
   "source": [
    "df_2.shape"
   ]
  },
  {
   "cell_type": "code",
   "execution_count": 18,
   "id": "c921eeb8",
   "metadata": {},
   "outputs": [
    {
     "data": {
      "text/plain": [
       "{'whiskers': [<matplotlib.lines.Line2D at 0x1f3a8769f10>,\n",
       "  <matplotlib.lines.Line2D at 0x1f3a8778220>],\n",
       " 'caps': [<matplotlib.lines.Line2D at 0x1f3a8778520>,\n",
       "  <matplotlib.lines.Line2D at 0x1f3a87787f0>],\n",
       " 'boxes': [<matplotlib.lines.Line2D at 0x1f3a8769c40>],\n",
       " 'medians': [<matplotlib.lines.Line2D at 0x1f3a8778ac0>],\n",
       " 'fliers': [<matplotlib.lines.Line2D at 0x1f3a8778d90>],\n",
       " 'means': []}"
      ]
     },
     "execution_count": 18,
     "metadata": {},
     "output_type": "execute_result"
    },
    {
     "data": {
      "image/png": "[encoded data removed]",
      "text/plain": [
       "<Figure size 432x288 with 1 Axes>"
      ]
     },
     "metadata": {
      "needs_background": "light"
     },
     "output_type": "display_data"
    }
   ],
   "source": [
    "plt.boxplot(df_2[\"Sales\"])"
   ]
  },
  {
   "cell_type": "code",
   "execution_count": 19,
   "id": "38438600",
   "metadata": {},
   "outputs": [
    {
     "data": {
      "text/plain": [
       "{'whiskers': [<matplotlib.lines.Line2D at 0x1f3a87d78e0>,\n",
       "  <matplotlib.lines.Line2D at 0x1f3a87d7be0>],\n",
       " 'caps': [<matplotlib.lines.Line2D at 0x1f3a87d7eb0>,\n",
       "  <matplotlib.lines.Line2D at 0x1f3a87e71c0>],\n",
       " 'boxes': [<matplotlib.lines.Line2D at 0x1f3a87d7610>],\n",
       " 'medians': [<matplotlib.lines.Line2D at 0x1f3a87e7490>],\n",
       " 'fliers': [<matplotlib.lines.Line2D at 0x1f3a87e7760>],\n",
       " 'means': []}"
      ]
     },
     "execution_count": 19,
     "metadata": {},
     "output_type": "execute_result"
    },
    {
     "data": {
      "image/png": "[encoded data removed]",
      "text/plain": [
       "<Figure size 432x288 with 1 Axes>"
      ]
     },
     "metadata": {
      "needs_background": "light"
     },
     "output_type": "display_data"
    }
   ],
   "source": [
    "plt.boxplot(df_2[\"Quantity\"])"
   ]
  },
  {
   "cell_type": "code",
   "execution_count": 20,
   "id": "285fa8df",
   "metadata": {},
   "outputs": [
    {
     "data": {
      "text/plain": [
       "0.10     1.0\n",
       "0.25     2.0\n",
       "0.50     3.0\n",
       "0.75     4.0\n",
       "1.00    14.0\n",
       "Name: Quantity, dtype: float64"
      ]
     },
     "execution_count": 20,
     "metadata": {},
     "output_type": "execute_result"
    }
   ],
   "source": [
    "df_2[\"Quantity\"].quantile([0.1,0.25,0.5,0.75,1.0])"
   ]
  },
  {
   "cell_type": "code",
   "execution_count": 21,
   "id": "39efa281",
   "metadata": {},
   "outputs": [],
   "source": [
    "df_3=df_2[(df_2[\"Quantity\"] >=2.0) & (df_2[\"Quantity\"] <=4.0)]"
   ]
  },
  {
   "cell_type": "code",
   "execution_count": 22,
   "id": "1d4468b7",
   "metadata": {},
   "outputs": [
    {
     "data": {
      "text/plain": [
       "(7906, 24)"
      ]
     },
     "execution_count": 22,
     "metadata": {},
     "output_type": "execute_result"
    }
   ],
   "source": [
    "df_3.shape"
   ]
  },
  {
   "cell_type": "code",
   "execution_count": 23,
   "id": "493231b0",
   "metadata": {},
   "outputs": [
    {
     "data": {
      "text/plain": [
       "{'whiskers': [<matplotlib.lines.Line2D at 0x1f3a883ee20>,\n",
       "  <matplotlib.lines.Line2D at 0x1f3a8850130>],\n",
       " 'caps': [<matplotlib.lines.Line2D at 0x1f3a8850400>,\n",
       "  <matplotlib.lines.Line2D at 0x1f3a88506d0>],\n",
       " 'boxes': [<matplotlib.lines.Line2D at 0x1f3a883eb50>],\n",
       " 'medians': [<matplotlib.lines.Line2D at 0x1f3a88509a0>],\n",
       " 'fliers': [<matplotlib.lines.Line2D at 0x1f3a8850c70>],\n",
       " 'means': []}"
      ]
     },
     "execution_count": 23,
     "metadata": {},
     "output_type": "execute_result"
    },
    {
     "data": {
      "image/png": "[encoded data removed]",
      "text/plain": [
       "<Figure size 432x288 with 1 Axes>"
      ]
     },
     "metadata": {
      "needs_background": "light"
     },
     "output_type": "display_data"
    }
   ],
   "source": [
    "plt.boxplot(df_3[\"Quantity\"])"
   ]
  },
  {
   "cell_type": "code",
   "execution_count": 24,
   "id": "e64011f6",
   "metadata": {},
   "outputs": [
    {
     "data": {
      "text/plain": [
       "{'whiskers': [<matplotlib.lines.Line2D at 0x1f3a88b7400>,\n",
       "  <matplotlib.lines.Line2D at 0x1f3a88b76d0>],\n",
       " 'caps': [<matplotlib.lines.Line2D at 0x1f3a88b79a0>,\n",
       "  <matplotlib.lines.Line2D at 0x1f3a88b7c70>],\n",
       " 'boxes': [<matplotlib.lines.Line2D at 0x1f3a88b7130>],\n",
       " 'medians': [<matplotlib.lines.Line2D at 0x1f3a88b7f40>],\n",
       " 'fliers': [<matplotlib.lines.Line2D at 0x1f3a88c3250>],\n",
       " 'means': []}"
      ]
     },
     "execution_count": 24,
     "metadata": {},
     "output_type": "execute_result"
    },
    {
     "data": {
      "image/png": "[encoded data removed]",
      "text/plain": [
       "<Figure size 432x288 with 1 Axes>"
      ]
     },
     "metadata": {
      "needs_background": "light"
     },
     "output_type": "display_data"
    }
   ],
   "source": [
    "plt.boxplot(df_3[\"Shipping Cost\"])"
   ]
  },
  {
   "cell_type": "code",
   "execution_count": 25,
   "id": "8aaad2a4",
   "metadata": {},
   "outputs": [
    {
     "data": {
      "text/plain": [
       "0.10     1.72000\n",
       "0.25     2.70000\n",
       "0.50     4.46100\n",
       "0.75     7.23675\n",
       "1.00    47.28000\n",
       "Name: Shipping Cost, dtype: float64"
      ]
     },
     "execution_count": 25,
     "metadata": {},
     "output_type": "execute_result"
    }
   ],
   "source": [
    "df_3[\"Shipping Cost\"].quantile([0.1,0.25,0.5,0.75,1.0])"
   ]
  },
  {
   "cell_type": "code",
   "execution_count": 26,
   "id": "771fef27",
   "metadata": {},
   "outputs": [],
   "source": [
    "df_4=df_3[(df_3[\"Shipping Cost\"] >=2.70) & (df_3[\"Shipping Cost\"] <=7.23675)]"
   ]
  },
  {
   "cell_type": "code",
   "execution_count": 27,
   "id": "13e6b0e7",
   "metadata": {},
   "outputs": [
    {
     "data": {
      "text/plain": [
       "(3953, 24)"
      ]
     },
     "execution_count": 27,
     "metadata": {},
     "output_type": "execute_result"
    }
   ],
   "source": [
    "df_4.shape"
   ]
  },
  {
   "cell_type": "code",
   "execution_count": 28,
   "id": "bbc3460f",
   "metadata": {},
   "outputs": [
    {
     "data": {
      "text/plain": [
       "{'whiskers': [<matplotlib.lines.Line2D at 0x1f3a8915790>,\n",
       "  <matplotlib.lines.Line2D at 0x1f3a8915a90>],\n",
       " 'caps': [<matplotlib.lines.Line2D at 0x1f3a8915d60>,\n",
       "  <matplotlib.lines.Line2D at 0x1f3a8922070>],\n",
       " 'boxes': [<matplotlib.lines.Line2D at 0x1f3a89154c0>],\n",
       " 'medians': [<matplotlib.lines.Line2D at 0x1f3a8922340>],\n",
       " 'fliers': [<matplotlib.lines.Line2D at 0x1f3a8922610>],\n",
       " 'means': []}"
      ]
     },
     "execution_count": 28,
     "metadata": {},
     "output_type": "execute_result"
    },
    {
     "data": {
      "image/png": "[encoded data removed]",
      "text/plain": [
       "<Figure size 432x288 with 1 Axes>"
      ]
     },
     "metadata": {
      "needs_background": "light"
     },
     "output_type": "display_data"
    }
   ],
   "source": [
    "plt.boxplot(df_4[\"Shipping Cost\"])"
   ]
  },
  {
   "cell_type": "code",
   "execution_count": 29,
   "id": "aa5680bd",
   "metadata": {},
   "outputs": [
    {
     "data": {
      "text/html": [
       "<div>\n",
       "<style scoped>\n",
       "    .dataframe tbody tr th:only-of-type {\n",
       "        vertical-align: middle;\n",
       "    }\n",
       "\n",
       "    .dataframe tbody tr th {\n",
       "        vertical-align: top;\n",
       "    }\n",
       "\n",
       "    .dataframe thead th {\n",
       "        text-align: right;\n",
       "    }\n",
       "</style>\n",
       "<table border=\"1\" class=\"dataframe\">\n",
       "  <thead>\n",
       "    <tr style=\"text-align: right;\">\n",
       "      <th></th>\n",
       "      <th>Row ID</th>\n",
       "      <th>Order ID</th>\n",
       "      <th>Order Date</th>\n",
       "      <th>Ship Date</th>\n",
       "      <th>Ship Mode</th>\n",
       "      <th>Customer ID</th>\n",
       "      <th>Customer Name</th>\n",
       "      <th>Segment</th>\n",
       "      <th>City</th>\n",
       "      <th>State</th>\n",
       "      <th>...</th>\n",
       "      <th>Product ID</th>\n",
       "      <th>Category</th>\n",
       "      <th>Sub-Category</th>\n",
       "      <th>Product Name</th>\n",
       "      <th>Sales</th>\n",
       "      <th>Quantity</th>\n",
       "      <th>Discount</th>\n",
       "      <th>Profit</th>\n",
       "      <th>Shipping Cost</th>\n",
       "      <th>Order Priority</th>\n",
       "    </tr>\n",
       "  </thead>\n",
       "  <tbody>\n",
       "    <tr>\n",
       "      <th>26583</th>\n",
       "      <td>10778</td>\n",
       "      <td>ES-2014-5617990</td>\n",
       "      <td>2014-09-11</td>\n",
       "      <td>2014-09-12</td>\n",
       "      <td>First Class</td>\n",
       "      <td>LW-16825</td>\n",
       "      <td>Laurel Workman</td>\n",
       "      <td>Corporate</td>\n",
       "      <td>Schiltigheim</td>\n",
       "      <td>Alsace</td>\n",
       "      <td>...</td>\n",
       "      <td>OFF-SU-10003160</td>\n",
       "      <td>Office Supplies</td>\n",
       "      <td>Supplies</td>\n",
       "      <td>Acme Ruler, High Speed</td>\n",
       "      <td>33.420</td>\n",
       "      <td>2</td>\n",
       "      <td>0.0</td>\n",
       "      <td>1.320</td>\n",
       "      <td>7.23</td>\n",
       "      <td>High</td>\n",
       "    </tr>\n",
       "    <tr>\n",
       "      <th>26584</th>\n",
       "      <td>17129</td>\n",
       "      <td>ES-2014-3096832</td>\n",
       "      <td>2014-07-04</td>\n",
       "      <td>2014-07-09</td>\n",
       "      <td>Standard Class</td>\n",
       "      <td>BW-11065</td>\n",
       "      <td>Barry Weirich</td>\n",
       "      <td>Consumer</td>\n",
       "      <td>Catania</td>\n",
       "      <td>Sicily</td>\n",
       "      <td>...</td>\n",
       "      <td>OFF-AR-10002145</td>\n",
       "      <td>Office Supplies</td>\n",
       "      <td>Art</td>\n",
       "      <td>Binney &amp; Smith Sketch Pad, Fluorescent</td>\n",
       "      <td>95.160</td>\n",
       "      <td>2</td>\n",
       "      <td>0.0</td>\n",
       "      <td>4.740</td>\n",
       "      <td>7.23</td>\n",
       "      <td>Medium</td>\n",
       "    </tr>\n",
       "    <tr>\n",
       "      <th>26586</th>\n",
       "      <td>21231</td>\n",
       "      <td>IN-2012-45951</td>\n",
       "      <td>2012-11-02</td>\n",
       "      <td>2012-11-06</td>\n",
       "      <td>Standard Class</td>\n",
       "      <td>JG-15115</td>\n",
       "      <td>Jack Garza</td>\n",
       "      <td>Consumer</td>\n",
       "      <td>Bhopal</td>\n",
       "      <td>Madhya Pradesh</td>\n",
       "      <td>...</td>\n",
       "      <td>OFF-EN-10000315</td>\n",
       "      <td>Office Supplies</td>\n",
       "      <td>Envelopes</td>\n",
       "      <td>Jiffy Business Envelopes, Security-Tint</td>\n",
       "      <td>47.880</td>\n",
       "      <td>3</td>\n",
       "      <td>0.0</td>\n",
       "      <td>9.090</td>\n",
       "      <td>7.23</td>\n",
       "      <td>High</td>\n",
       "    </tr>\n",
       "    <tr>\n",
       "      <th>26587</th>\n",
       "      <td>23945</td>\n",
       "      <td>IN-2012-40547</td>\n",
       "      <td>2012-11-29</td>\n",
       "      <td>2012-11-30</td>\n",
       "      <td>First Class</td>\n",
       "      <td>GT-14710</td>\n",
       "      <td>Greg Tran</td>\n",
       "      <td>Consumer</td>\n",
       "      <td>Adelaide</td>\n",
       "      <td>South Australia</td>\n",
       "      <td>...</td>\n",
       "      <td>OFF-BI-10004685</td>\n",
       "      <td>Office Supplies</td>\n",
       "      <td>Binders</td>\n",
       "      <td>Acco Binder, Economy</td>\n",
       "      <td>40.905</td>\n",
       "      <td>3</td>\n",
       "      <td>0.1</td>\n",
       "      <td>9.495</td>\n",
       "      <td>7.23</td>\n",
       "      <td>High</td>\n",
       "    </tr>\n",
       "    <tr>\n",
       "      <th>26594</th>\n",
       "      <td>31408</td>\n",
       "      <td>CA-2013-128867</td>\n",
       "      <td>2013-11-04</td>\n",
       "      <td>2013-11-11</td>\n",
       "      <td>Standard Class</td>\n",
       "      <td>CL-12565</td>\n",
       "      <td>Clay Ludtke</td>\n",
       "      <td>Consumer</td>\n",
       "      <td>Urbandale</td>\n",
       "      <td>Iowa</td>\n",
       "      <td>...</td>\n",
       "      <td>OFF-AR-10000380</td>\n",
       "      <td>Office Supplies</td>\n",
       "      <td>Art</td>\n",
       "      <td>Hunt PowerHouse Electric Pencil Sharpener, Blue</td>\n",
       "      <td>75.960</td>\n",
       "      <td>2</td>\n",
       "      <td>0.0</td>\n",
       "      <td>22.788</td>\n",
       "      <td>7.23</td>\n",
       "      <td>Medium</td>\n",
       "    </tr>\n",
       "  </tbody>\n",
       "</table>\n",
       "<p>5 rows × 24 columns</p>\n",
       "</div>"
      ],
      "text/plain": [
       "       Row ID         Order ID Order Date  Ship Date       Ship Mode  \\\n",
       "26583   10778  ES-2014-5617990 2014-09-11 2014-09-12     First Class   \n",
       "26584   17129  ES-2014-3096832 2014-07-04 2014-07-09  Standard Class   \n",
       "26586   21231    IN-2012-45951 2012-11-02 2012-11-06  Standard Class   \n",
       "26587   23945    IN-2012-40547 2012-11-29 2012-11-30     First Class   \n",
       "26594   31408   CA-2013-128867 2013-11-04 2013-11-11  Standard Class   \n",
       "\n",
       "      Customer ID   Customer Name    Segment          City            State  \\\n",
       "26583    LW-16825  Laurel Workman  Corporate  Schiltigheim           Alsace   \n",
       "26584    BW-11065   Barry Weirich   Consumer       Catania           Sicily   \n",
       "26586    JG-15115      Jack Garza   Consumer        Bhopal   Madhya Pradesh   \n",
       "26587    GT-14710       Greg Tran   Consumer      Adelaide  South Australia   \n",
       "26594    CL-12565     Clay Ludtke   Consumer     Urbandale             Iowa   \n",
       "\n",
       "       ...       Product ID         Category Sub-Category  \\\n",
       "26583  ...  OFF-SU-10003160  Office Supplies     Supplies   \n",
       "26584  ...  OFF-AR-10002145  Office Supplies          Art   \n",
       "26586  ...  OFF-EN-10000315  Office Supplies    Envelopes   \n",
       "26587  ...  OFF-BI-10004685  Office Supplies      Binders   \n",
       "26594  ...  OFF-AR-10000380  Office Supplies          Art   \n",
       "\n",
       "                                          Product Name   Sales Quantity  \\\n",
       "26583                           Acme Ruler, High Speed  33.420        2   \n",
       "26584           Binney & Smith Sketch Pad, Fluorescent  95.160        2   \n",
       "26586          Jiffy Business Envelopes, Security-Tint  47.880        3   \n",
       "26587                             Acco Binder, Economy  40.905        3   \n",
       "26594  Hunt PowerHouse Electric Pencil Sharpener, Blue  75.960        2   \n",
       "\n",
       "      Discount  Profit  Shipping Cost  Order Priority  \n",
       "26583      0.0   1.320           7.23            High  \n",
       "26584      0.0   4.740           7.23          Medium  \n",
       "26586      0.0   9.090           7.23            High  \n",
       "26587      0.1   9.495           7.23            High  \n",
       "26594      0.0  22.788           7.23          Medium  \n",
       "\n",
       "[5 rows x 24 columns]"
      ]
     },
     "execution_count": 29,
     "metadata": {},
     "output_type": "execute_result"
    }
   ],
   "source": [
    "df_4.head()"
   ]
  },
  {
   "cell_type": "markdown",
   "id": "e787ef67",
   "metadata": {},
   "source": [
    "1. boxplot => to identify outlier\n",
    "2. outlier => simple and effective IQR technique"
   ]
  },
  {
   "cell_type": "markdown",
   "id": "9106dce3",
   "metadata": {},
   "source": [
    "# Missing value imputations"
   ]
  },
  {
   "cell_type": "code",
   "execution_count": 30,
   "id": "d169901c",
   "metadata": {},
   "outputs": [
    {
     "data": {
      "text/plain": [
       "Row ID               0\n",
       "Order ID             0\n",
       "Order Date           0\n",
       "Ship Date            0\n",
       "Ship Mode            0\n",
       "Customer ID          0\n",
       "Customer Name        0\n",
       "Segment              0\n",
       "City                 0\n",
       "State                0\n",
       "Country              0\n",
       "Postal Code       3268\n",
       "Market               0\n",
       "Region               0\n",
       "Product ID           0\n",
       "Category             0\n",
       "Sub-Category         0\n",
       "Product Name         0\n",
       "Sales                0\n",
       "Quantity             0\n",
       "Discount             0\n",
       "Profit               0\n",
       "Shipping Cost        0\n",
       "Order Priority       0\n",
       "dtype: int64"
      ]
     },
     "execution_count": 30,
     "metadata": {},
     "output_type": "execute_result"
    }
   ],
   "source": [
    "df_4.isnull().sum()"
   ]
  },
  {
   "cell_type": "code",
   "execution_count": 31,
   "id": "72f36130",
   "metadata": {},
   "outputs": [
    {
     "name": "stderr",
     "output_type": "stream",
     "text": [
      "C:\\Users\\Lalith Eswar\\AppData\\Local\\Temp\\ipykernel_29036\\3596599742.py:1: SettingWithCopyWarning: \n",
      "A value is trying to be set on a copy of a slice from a DataFrame\n",
      "\n",
      "See the caveats in the documentation: https://pandas.pydata.org/pandas-docs/stable/user_guide/indexing.html#returning-a-view-versus-a-copy\n",
      "  df_4.drop([\"Postal Code\"],axis=1,inplace=True)\n"
     ]
    }
   ],
   "source": [
    "df_4.drop([\"Postal Code\"],axis=1,inplace=True)"
   ]
  },
  {
   "cell_type": "code",
   "execution_count": 32,
   "id": "7fa56329",
   "metadata": {},
   "outputs": [
    {
     "data": {
      "text/plain": [
       "Row ID            0\n",
       "Order ID          0\n",
       "Order Date        0\n",
       "Ship Date         0\n",
       "Ship Mode         0\n",
       "Customer ID       0\n",
       "Customer Name     0\n",
       "Segment           0\n",
       "City              0\n",
       "State             0\n",
       "Country           0\n",
       "Market            0\n",
       "Region            0\n",
       "Product ID        0\n",
       "Category          0\n",
       "Sub-Category      0\n",
       "Product Name      0\n",
       "Sales             0\n",
       "Quantity          0\n",
       "Discount          0\n",
       "Profit            0\n",
       "Shipping Cost     0\n",
       "Order Priority    0\n",
       "dtype: int64"
      ]
     },
     "execution_count": 32,
     "metadata": {},
     "output_type": "execute_result"
    }
   ],
   "source": [
    "df_4.isnull().sum()"
   ]
  },
  {
   "cell_type": "code",
   "execution_count": 33,
   "id": "d794f063",
   "metadata": {},
   "outputs": [],
   "source": [
    "import numpy as np"
   ]
  },
  {
   "cell_type": "code",
   "execution_count": 34,
   "id": "87c6ce2c",
   "metadata": {},
   "outputs": [],
   "source": [
    "df4_num=df_4.select_dtypes(include=[np.number])"
   ]
  },
  {
   "cell_type": "code",
   "execution_count": 35,
   "id": "d8361211",
   "metadata": {},
   "outputs": [],
   "source": [
    "df4_cat=df_4.select_dtypes(include=[\"object\"])"
   ]
  },
  {
   "cell_type": "code",
   "execution_count": 36,
   "id": "d433abfa",
   "metadata": {},
   "outputs": [
    {
     "data": {
      "text/plain": [
       "Index(['Row ID', 'Sales', 'Quantity', 'Discount', 'Profit', 'Shipping Cost'], dtype='object')"
      ]
     },
     "execution_count": 36,
     "metadata": {},
     "output_type": "execute_result"
    }
   ],
   "source": [
    "df4_num.columns"
   ]
  },
  {
   "cell_type": "code",
   "execution_count": 37,
   "id": "91515ca9",
   "metadata": {},
   "outputs": [
    {
     "data": {
      "text/plain": [
       "Index(['Order ID', 'Ship Mode', 'Customer ID', 'Customer Name', 'Segment',\n",
       "       'City', 'State', 'Country', 'Market', 'Region', 'Product ID',\n",
       "       'Category', 'Sub-Category', 'Product Name', 'Order Priority'],\n",
       "      dtype='object')"
      ]
     },
     "execution_count": 37,
     "metadata": {},
     "output_type": "execute_result"
    }
   ],
   "source": [
    "df4_cat.columns"
   ]
  },
  {
   "cell_type": "markdown",
   "id": "6af6ccd8",
   "metadata": {},
   "source": [
    "# encoding, scaling"
   ]
  },
  {
   "cell_type": "code",
   "execution_count": 38,
   "id": "cc4dc876",
   "metadata": {},
   "outputs": [],
   "source": [
    "df4_num.drop(['Row ID'],axis=1,inplace=True)"
   ]
  },
  {
   "cell_type": "code",
   "execution_count": 39,
   "id": "da61919e",
   "metadata": {},
   "outputs": [],
   "source": [
    "from sklearn import preprocessing"
   ]
  },
  {
   "cell_type": "code",
   "execution_count": 40,
   "id": "2ffbb895",
   "metadata": {},
   "outputs": [],
   "source": [
    "le=preprocessing.LabelEncoder()"
   ]
  },
  {
   "cell_type": "code",
   "execution_count": 41,
   "id": "63330a3c",
   "metadata": {},
   "outputs": [],
   "source": [
    "mm_scaler = preprocessing.MinMaxScaler()"
   ]
  },
  {
   "cell_type": "code",
   "execution_count": 42,
   "id": "5f93e52e",
   "metadata": {},
   "outputs": [],
   "source": [
    "df4_cat_e =df4_cat.apply(le.fit_transform)"
   ]
  },
  {
   "cell_type": "code",
   "execution_count": 43,
   "id": "f0488a67",
   "metadata": {},
   "outputs": [
    {
     "data": {
      "text/plain": [
       "Index(['Sales', 'Quantity', 'Discount', 'Profit', 'Shipping Cost'], dtype='object')"
      ]
     },
     "execution_count": 43,
     "metadata": {},
     "output_type": "execute_result"
    }
   ],
   "source": [
    "df4_num.columns"
   ]
  },
  {
   "cell_type": "code",
   "execution_count": 44,
   "id": "60714ecb",
   "metadata": {},
   "outputs": [],
   "source": [
    "df4_num_mm =mm_scaler.fit_transform(df4_num)"
   ]
  },
  {
   "cell_type": "code",
   "execution_count": 45,
   "id": "f2b3a707",
   "metadata": {},
   "outputs": [],
   "source": [
    "df4_num_mm_sc=pd.DataFrame(df4_num_mm)"
   ]
  },
  {
   "cell_type": "code",
   "execution_count": 46,
   "id": "9dbbcc4f",
   "metadata": {},
   "outputs": [
    {
     "data": {
      "text/html": [
       "<div>\n",
       "<style scoped>\n",
       "    .dataframe tbody tr th:only-of-type {\n",
       "        vertical-align: middle;\n",
       "    }\n",
       "\n",
       "    .dataframe tbody tr th {\n",
       "        vertical-align: top;\n",
       "    }\n",
       "\n",
       "    .dataframe thead th {\n",
       "        text-align: right;\n",
       "    }\n",
       "</style>\n",
       "<table border=\"1\" class=\"dataframe\">\n",
       "  <thead>\n",
       "    <tr style=\"text-align: right;\">\n",
       "      <th></th>\n",
       "      <th>0</th>\n",
       "      <th>1</th>\n",
       "      <th>2</th>\n",
       "      <th>3</th>\n",
       "      <th>4</th>\n",
       "    </tr>\n",
       "  </thead>\n",
       "  <tbody>\n",
       "    <tr>\n",
       "      <th>0</th>\n",
       "      <td>0.134822</td>\n",
       "      <td>0.0</td>\n",
       "      <td>0.0</td>\n",
       "      <td>0.035948</td>\n",
       "      <td>1.0</td>\n",
       "    </tr>\n",
       "    <tr>\n",
       "      <th>1</th>\n",
       "      <td>0.985939</td>\n",
       "      <td>0.0</td>\n",
       "      <td>0.0</td>\n",
       "      <td>0.129085</td>\n",
       "      <td>1.0</td>\n",
       "    </tr>\n",
       "    <tr>\n",
       "      <th>2</th>\n",
       "      <td>0.334160</td>\n",
       "      <td>0.5</td>\n",
       "      <td>0.0</td>\n",
       "      <td>0.247549</td>\n",
       "      <td>1.0</td>\n",
       "    </tr>\n",
       "    <tr>\n",
       "      <th>3</th>\n",
       "      <td>0.238007</td>\n",
       "      <td>0.5</td>\n",
       "      <td>0.2</td>\n",
       "      <td>0.258578</td>\n",
       "      <td>1.0</td>\n",
       "    </tr>\n",
       "    <tr>\n",
       "      <th>4</th>\n",
       "      <td>0.721257</td>\n",
       "      <td>0.0</td>\n",
       "      <td>0.0</td>\n",
       "      <td>0.620588</td>\n",
       "      <td>1.0</td>\n",
       "    </tr>\n",
       "  </tbody>\n",
       "</table>\n",
       "</div>"
      ],
      "text/plain": [
       "          0    1    2         3    4\n",
       "0  0.134822  0.0  0.0  0.035948  1.0\n",
       "1  0.985939  0.0  0.0  0.129085  1.0\n",
       "2  0.334160  0.5  0.0  0.247549  1.0\n",
       "3  0.238007  0.5  0.2  0.258578  1.0\n",
       "4  0.721257  0.0  0.0  0.620588  1.0"
      ]
     },
     "execution_count": 46,
     "metadata": {},
     "output_type": "execute_result"
    }
   ],
   "source": [
    "df4_num_mm_sc.head()"
   ]
  },
  {
   "cell_type": "code",
   "execution_count": 47,
   "id": "6a762d26",
   "metadata": {},
   "outputs": [
    {
     "data": {
      "text/html": [
       "<div>\n",
       "<style scoped>\n",
       "    .dataframe tbody tr th:only-of-type {\n",
       "        vertical-align: middle;\n",
       "    }\n",
       "\n",
       "    .dataframe tbody tr th {\n",
       "        vertical-align: top;\n",
       "    }\n",
       "\n",
       "    .dataframe thead th {\n",
       "        text-align: right;\n",
       "    }\n",
       "</style>\n",
       "<table border=\"1\" class=\"dataframe\">\n",
       "  <thead>\n",
       "    <tr style=\"text-align: right;\">\n",
       "      <th></th>\n",
       "      <th>Order ID</th>\n",
       "      <th>Ship Mode</th>\n",
       "      <th>Customer ID</th>\n",
       "      <th>Customer Name</th>\n",
       "      <th>Segment</th>\n",
       "      <th>City</th>\n",
       "      <th>State</th>\n",
       "      <th>Country</th>\n",
       "      <th>Market</th>\n",
       "      <th>Region</th>\n",
       "      <th>Product ID</th>\n",
       "      <th>Category</th>\n",
       "      <th>Sub-Category</th>\n",
       "      <th>Product Name</th>\n",
       "      <th>Order Priority</th>\n",
       "    </tr>\n",
       "  </thead>\n",
       "  <tbody>\n",
       "    <tr>\n",
       "      <th>26583</th>\n",
       "      <td>1476</td>\n",
       "      <td>0</td>\n",
       "      <td>706</td>\n",
       "      <td>447</td>\n",
       "      <td>1</td>\n",
       "      <td>1229</td>\n",
       "      <td>19</td>\n",
       "      <td>35</td>\n",
       "      <td>4</td>\n",
       "      <td>3</td>\n",
       "      <td>2160</td>\n",
       "      <td>1</td>\n",
       "      <td>14</td>\n",
       "      <td>79</td>\n",
       "      <td>1</td>\n",
       "    </tr>\n",
       "    <tr>\n",
       "      <th>26584</th>\n",
       "      <td>1359</td>\n",
       "      <td>3</td>\n",
       "      <td>183</td>\n",
       "      <td>70</td>\n",
       "      <td>0</td>\n",
       "      <td>282</td>\n",
       "      <td>497</td>\n",
       "      <td>51</td>\n",
       "      <td>4</td>\n",
       "      <td>10</td>\n",
       "      <td>462</td>\n",
       "      <td>1</td>\n",
       "      <td>2</td>\n",
       "      <td>271</td>\n",
       "      <td>3</td>\n",
       "    </tr>\n",
       "    <tr>\n",
       "      <th>26586</th>\n",
       "      <td>1773</td>\n",
       "      <td>3</td>\n",
       "      <td>544</td>\n",
       "      <td>337</td>\n",
       "      <td>0</td>\n",
       "      <td>176</td>\n",
       "      <td>319</td>\n",
       "      <td>46</td>\n",
       "      <td>0</td>\n",
       "      <td>4</td>\n",
       "      <td>923</td>\n",
       "      <td>1</td>\n",
       "      <td>6</td>\n",
       "      <td>739</td>\n",
       "      <td>1</td>\n",
       "    </tr>\n",
       "    <tr>\n",
       "      <th>26587</th>\n",
       "      <td>1758</td>\n",
       "      <td>0</td>\n",
       "      <td>468</td>\n",
       "      <td>310</td>\n",
       "      <td>0</td>\n",
       "      <td>10</td>\n",
       "      <td>506</td>\n",
       "      <td>4</td>\n",
       "      <td>0</td>\n",
       "      <td>9</td>\n",
       "      <td>826</td>\n",
       "      <td>1</td>\n",
       "      <td>3</td>\n",
       "      <td>27</td>\n",
       "      <td>1</td>\n",
       "    </tr>\n",
       "    <tr>\n",
       "      <th>26594</th>\n",
       "      <td>353</td>\n",
       "      <td>3</td>\n",
       "      <td>232</td>\n",
       "      <td>169</td>\n",
       "      <td>0</td>\n",
       "      <td>1390</td>\n",
       "      <td>246</td>\n",
       "      <td>105</td>\n",
       "      <td>6</td>\n",
       "      <td>3</td>\n",
       "      <td>352</td>\n",
       "      <td>1</td>\n",
       "      <td>2</td>\n",
       "      <td>697</td>\n",
       "      <td>3</td>\n",
       "    </tr>\n",
       "  </tbody>\n",
       "</table>\n",
       "</div>"
      ],
      "text/plain": [
       "       Order ID  Ship Mode  Customer ID  Customer Name  Segment  City  State  \\\n",
       "26583      1476          0          706            447        1  1229     19   \n",
       "26584      1359          3          183             70        0   282    497   \n",
       "26586      1773          3          544            337        0   176    319   \n",
       "26587      1758          0          468            310        0    10    506   \n",
       "26594       353          3          232            169        0  1390    246   \n",
       "\n",
       "       Country  Market  Region  Product ID  Category  Sub-Category  \\\n",
       "26583       35       4       3        2160         1            14   \n",
       "26584       51       4      10         462         1             2   \n",
       "26586       46       0       4         923         1             6   \n",
       "26587        4       0       9         826         1             3   \n",
       "26594      105       6       3         352         1             2   \n",
       "\n",
       "       Product Name  Order Priority  \n",
       "26583            79               1  \n",
       "26584           271               3  \n",
       "26586           739               1  \n",
       "26587            27               1  \n",
       "26594           697               3  "
      ]
     },
     "execution_count": 47,
     "metadata": {},
     "output_type": "execute_result"
    }
   ],
   "source": [
    "df4_cat_e.head()"
   ]
  },
  {
   "cell_type": "code",
   "execution_count": 48,
   "id": "3cec882f",
   "metadata": {},
   "outputs": [],
   "source": [
    "d1=df4_cat_e.reset_index()"
   ]
  },
  {
   "cell_type": "code",
   "execution_count": 49,
   "id": "4243b012",
   "metadata": {},
   "outputs": [
    {
     "data": {
      "text/html": [
       "<div>\n",
       "<style scoped>\n",
       "    .dataframe tbody tr th:only-of-type {\n",
       "        vertical-align: middle;\n",
       "    }\n",
       "\n",
       "    .dataframe tbody tr th {\n",
       "        vertical-align: top;\n",
       "    }\n",
       "\n",
       "    .dataframe thead th {\n",
       "        text-align: right;\n",
       "    }\n",
       "</style>\n",
       "<table border=\"1\" class=\"dataframe\">\n",
       "  <thead>\n",
       "    <tr style=\"text-align: right;\">\n",
       "      <th></th>\n",
       "      <th>index</th>\n",
       "      <th>Order ID</th>\n",
       "      <th>Ship Mode</th>\n",
       "      <th>Customer ID</th>\n",
       "      <th>Customer Name</th>\n",
       "      <th>Segment</th>\n",
       "      <th>City</th>\n",
       "      <th>State</th>\n",
       "      <th>Country</th>\n",
       "      <th>Market</th>\n",
       "      <th>Region</th>\n",
       "      <th>Product ID</th>\n",
       "      <th>Category</th>\n",
       "      <th>Sub-Category</th>\n",
       "      <th>Product Name</th>\n",
       "      <th>Order Priority</th>\n",
       "    </tr>\n",
       "  </thead>\n",
       "  <tbody>\n",
       "    <tr>\n",
       "      <th>0</th>\n",
       "      <td>26583</td>\n",
       "      <td>1476</td>\n",
       "      <td>0</td>\n",
       "      <td>706</td>\n",
       "      <td>447</td>\n",
       "      <td>1</td>\n",
       "      <td>1229</td>\n",
       "      <td>19</td>\n",
       "      <td>35</td>\n",
       "      <td>4</td>\n",
       "      <td>3</td>\n",
       "      <td>2160</td>\n",
       "      <td>1</td>\n",
       "      <td>14</td>\n",
       "      <td>79</td>\n",
       "      <td>1</td>\n",
       "    </tr>\n",
       "    <tr>\n",
       "      <th>1</th>\n",
       "      <td>26584</td>\n",
       "      <td>1359</td>\n",
       "      <td>3</td>\n",
       "      <td>183</td>\n",
       "      <td>70</td>\n",
       "      <td>0</td>\n",
       "      <td>282</td>\n",
       "      <td>497</td>\n",
       "      <td>51</td>\n",
       "      <td>4</td>\n",
       "      <td>10</td>\n",
       "      <td>462</td>\n",
       "      <td>1</td>\n",
       "      <td>2</td>\n",
       "      <td>271</td>\n",
       "      <td>3</td>\n",
       "    </tr>\n",
       "    <tr>\n",
       "      <th>2</th>\n",
       "      <td>26586</td>\n",
       "      <td>1773</td>\n",
       "      <td>3</td>\n",
       "      <td>544</td>\n",
       "      <td>337</td>\n",
       "      <td>0</td>\n",
       "      <td>176</td>\n",
       "      <td>319</td>\n",
       "      <td>46</td>\n",
       "      <td>0</td>\n",
       "      <td>4</td>\n",
       "      <td>923</td>\n",
       "      <td>1</td>\n",
       "      <td>6</td>\n",
       "      <td>739</td>\n",
       "      <td>1</td>\n",
       "    </tr>\n",
       "    <tr>\n",
       "      <th>3</th>\n",
       "      <td>26587</td>\n",
       "      <td>1758</td>\n",
       "      <td>0</td>\n",
       "      <td>468</td>\n",
       "      <td>310</td>\n",
       "      <td>0</td>\n",
       "      <td>10</td>\n",
       "      <td>506</td>\n",
       "      <td>4</td>\n",
       "      <td>0</td>\n",
       "      <td>9</td>\n",
       "      <td>826</td>\n",
       "      <td>1</td>\n",
       "      <td>3</td>\n",
       "      <td>27</td>\n",
       "      <td>1</td>\n",
       "    </tr>\n",
       "    <tr>\n",
       "      <th>4</th>\n",
       "      <td>26594</td>\n",
       "      <td>353</td>\n",
       "      <td>3</td>\n",
       "      <td>232</td>\n",
       "      <td>169</td>\n",
       "      <td>0</td>\n",
       "      <td>1390</td>\n",
       "      <td>246</td>\n",
       "      <td>105</td>\n",
       "      <td>6</td>\n",
       "      <td>3</td>\n",
       "      <td>352</td>\n",
       "      <td>1</td>\n",
       "      <td>2</td>\n",
       "      <td>697</td>\n",
       "      <td>3</td>\n",
       "    </tr>\n",
       "  </tbody>\n",
       "</table>\n",
       "</div>"
      ],
      "text/plain": [
       "   index  Order ID  Ship Mode  Customer ID  Customer Name  Segment  City  \\\n",
       "0  26583      1476          0          706            447        1  1229   \n",
       "1  26584      1359          3          183             70        0   282   \n",
       "2  26586      1773          3          544            337        0   176   \n",
       "3  26587      1758          0          468            310        0    10   \n",
       "4  26594       353          3          232            169        0  1390   \n",
       "\n",
       "   State  Country  Market  Region  Product ID  Category  Sub-Category  \\\n",
       "0     19       35       4       3        2160         1            14   \n",
       "1    497       51       4      10         462         1             2   \n",
       "2    319       46       0       4         923         1             6   \n",
       "3    506        4       0       9         826         1             3   \n",
       "4    246      105       6       3         352         1             2   \n",
       "\n",
       "   Product Name  Order Priority  \n",
       "0            79               1  \n",
       "1           271               3  \n",
       "2           739               1  \n",
       "3            27               1  \n",
       "4           697               3  "
      ]
     },
     "execution_count": 49,
     "metadata": {},
     "output_type": "execute_result"
    }
   ],
   "source": [
    "d1.head()"
   ]
  },
  {
   "cell_type": "code",
   "execution_count": 50,
   "id": "85242358",
   "metadata": {},
   "outputs": [],
   "source": [
    "d1.drop([\"index\"],axis=1,inplace=True)"
   ]
  },
  {
   "cell_type": "code",
   "execution_count": 51,
   "id": "91b73bbc",
   "metadata": {},
   "outputs": [],
   "source": [
    "df_final=pd.concat([df4_num_mm_sc,d1],axis=1)"
   ]
  },
  {
   "cell_type": "code",
   "execution_count": 52,
   "id": "d7172b2c",
   "metadata": {},
   "outputs": [],
   "source": [
    "df_final.rename(columns={0:\"Sales\",1:\"Quantity\",2:\"Discount\",3:\"Profit\",4:\"Shipping Cost\"},inplace=True)"
   ]
  },
  {
   "cell_type": "code",
   "execution_count": 53,
   "id": "3127bc7d",
   "metadata": {},
   "outputs": [
    {
     "data": {
      "text/html": [
       "<div>\n",
       "<style scoped>\n",
       "    .dataframe tbody tr th:only-of-type {\n",
       "        vertical-align: middle;\n",
       "    }\n",
       "\n",
       "    .dataframe tbody tr th {\n",
       "        vertical-align: top;\n",
       "    }\n",
       "\n",
       "    .dataframe thead th {\n",
       "        text-align: right;\n",
       "    }\n",
       "</style>\n",
       "<table border=\"1\" class=\"dataframe\">\n",
       "  <thead>\n",
       "    <tr style=\"text-align: right;\">\n",
       "      <th></th>\n",
       "      <th>Sales</th>\n",
       "      <th>Quantity</th>\n",
       "      <th>Discount</th>\n",
       "      <th>Profit</th>\n",
       "      <th>Shipping Cost</th>\n",
       "      <th>Order ID</th>\n",
       "      <th>Ship Mode</th>\n",
       "      <th>Customer ID</th>\n",
       "      <th>Customer Name</th>\n",
       "      <th>Segment</th>\n",
       "      <th>City</th>\n",
       "      <th>State</th>\n",
       "      <th>Country</th>\n",
       "      <th>Market</th>\n",
       "      <th>Region</th>\n",
       "      <th>Product ID</th>\n",
       "      <th>Category</th>\n",
       "      <th>Sub-Category</th>\n",
       "      <th>Product Name</th>\n",
       "      <th>Order Priority</th>\n",
       "    </tr>\n",
       "  </thead>\n",
       "  <tbody>\n",
       "    <tr>\n",
       "      <th>0</th>\n",
       "      <td>0.134822</td>\n",
       "      <td>0.0</td>\n",
       "      <td>0.0</td>\n",
       "      <td>0.035948</td>\n",
       "      <td>1.0</td>\n",
       "      <td>1476</td>\n",
       "      <td>0</td>\n",
       "      <td>706</td>\n",
       "      <td>447</td>\n",
       "      <td>1</td>\n",
       "      <td>1229</td>\n",
       "      <td>19</td>\n",
       "      <td>35</td>\n",
       "      <td>4</td>\n",
       "      <td>3</td>\n",
       "      <td>2160</td>\n",
       "      <td>1</td>\n",
       "      <td>14</td>\n",
       "      <td>79</td>\n",
       "      <td>1</td>\n",
       "    </tr>\n",
       "    <tr>\n",
       "      <th>1</th>\n",
       "      <td>0.985939</td>\n",
       "      <td>0.0</td>\n",
       "      <td>0.0</td>\n",
       "      <td>0.129085</td>\n",
       "      <td>1.0</td>\n",
       "      <td>1359</td>\n",
       "      <td>3</td>\n",
       "      <td>183</td>\n",
       "      <td>70</td>\n",
       "      <td>0</td>\n",
       "      <td>282</td>\n",
       "      <td>497</td>\n",
       "      <td>51</td>\n",
       "      <td>4</td>\n",
       "      <td>10</td>\n",
       "      <td>462</td>\n",
       "      <td>1</td>\n",
       "      <td>2</td>\n",
       "      <td>271</td>\n",
       "      <td>3</td>\n",
       "    </tr>\n",
       "    <tr>\n",
       "      <th>2</th>\n",
       "      <td>0.334160</td>\n",
       "      <td>0.5</td>\n",
       "      <td>0.0</td>\n",
       "      <td>0.247549</td>\n",
       "      <td>1.0</td>\n",
       "      <td>1773</td>\n",
       "      <td>3</td>\n",
       "      <td>544</td>\n",
       "      <td>337</td>\n",
       "      <td>0</td>\n",
       "      <td>176</td>\n",
       "      <td>319</td>\n",
       "      <td>46</td>\n",
       "      <td>0</td>\n",
       "      <td>4</td>\n",
       "      <td>923</td>\n",
       "      <td>1</td>\n",
       "      <td>6</td>\n",
       "      <td>739</td>\n",
       "      <td>1</td>\n",
       "    </tr>\n",
       "    <tr>\n",
       "      <th>3</th>\n",
       "      <td>0.238007</td>\n",
       "      <td>0.5</td>\n",
       "      <td>0.2</td>\n",
       "      <td>0.258578</td>\n",
       "      <td>1.0</td>\n",
       "      <td>1758</td>\n",
       "      <td>0</td>\n",
       "      <td>468</td>\n",
       "      <td>310</td>\n",
       "      <td>0</td>\n",
       "      <td>10</td>\n",
       "      <td>506</td>\n",
       "      <td>4</td>\n",
       "      <td>0</td>\n",
       "      <td>9</td>\n",
       "      <td>826</td>\n",
       "      <td>1</td>\n",
       "      <td>3</td>\n",
       "      <td>27</td>\n",
       "      <td>1</td>\n",
       "    </tr>\n",
       "    <tr>\n",
       "      <th>4</th>\n",
       "      <td>0.721257</td>\n",
       "      <td>0.0</td>\n",
       "      <td>0.0</td>\n",
       "      <td>0.620588</td>\n",
       "      <td>1.0</td>\n",
       "      <td>353</td>\n",
       "      <td>3</td>\n",
       "      <td>232</td>\n",
       "      <td>169</td>\n",
       "      <td>0</td>\n",
       "      <td>1390</td>\n",
       "      <td>246</td>\n",
       "      <td>105</td>\n",
       "      <td>6</td>\n",
       "      <td>3</td>\n",
       "      <td>352</td>\n",
       "      <td>1</td>\n",
       "      <td>2</td>\n",
       "      <td>697</td>\n",
       "      <td>3</td>\n",
       "    </tr>\n",
       "  </tbody>\n",
       "</table>\n",
       "</div>"
      ],
      "text/plain": [
       "      Sales  Quantity  Discount    Profit  Shipping Cost  Order ID  Ship Mode  \\\n",
       "0  0.134822       0.0       0.0  0.035948            1.0      1476          0   \n",
       "1  0.985939       0.0       0.0  0.129085            1.0      1359          3   \n",
       "2  0.334160       0.5       0.0  0.247549            1.0      1773          3   \n",
       "3  0.238007       0.5       0.2  0.258578            1.0      1758          0   \n",
       "4  0.721257       0.0       0.0  0.620588            1.0       353          3   \n",
       "\n",
       "   Customer ID  Customer Name  Segment  City  State  Country  Market  Region  \\\n",
       "0          706            447        1  1229     19       35       4       3   \n",
       "1          183             70        0   282    497       51       4      10   \n",
       "2          544            337        0   176    319       46       0       4   \n",
       "3          468            310        0    10    506        4       0       9   \n",
       "4          232            169        0  1390    246      105       6       3   \n",
       "\n",
       "   Product ID  Category  Sub-Category  Product Name  Order Priority  \n",
       "0        2160         1            14            79               1  \n",
       "1         462         1             2           271               3  \n",
       "2         923         1             6           739               1  \n",
       "3         826         1             3            27               1  \n",
       "4         352         1             2           697               3  "
      ]
     },
     "execution_count": 53,
     "metadata": {},
     "output_type": "execute_result"
    }
   ],
   "source": [
    "df_final.head()"
   ]
  },
  {
   "cell_type": "code",
   "execution_count": 54,
   "id": "710d8795",
   "metadata": {},
   "outputs": [
    {
     "data": {
      "text/plain": [
       "Sales             0\n",
       "Quantity          0\n",
       "Discount          0\n",
       "Profit            0\n",
       "Shipping Cost     0\n",
       "Order ID          0\n",
       "Ship Mode         0\n",
       "Customer ID       0\n",
       "Customer Name     0\n",
       "Segment           0\n",
       "City              0\n",
       "State             0\n",
       "Country           0\n",
       "Market            0\n",
       "Region            0\n",
       "Product ID        0\n",
       "Category          0\n",
       "Sub-Category      0\n",
       "Product Name      0\n",
       "Order Priority    0\n",
       "dtype: int64"
      ]
     },
     "execution_count": 54,
     "metadata": {},
     "output_type": "execute_result"
    }
   ],
   "source": [
    "df_final.isnull().sum()"
   ]
  },
  {
   "cell_type": "markdown",
   "id": "e1a16524",
   "metadata": {},
   "source": [
    "# modeling"
   ]
  },
  {
   "cell_type": "code",
   "execution_count": 55,
   "id": "163dd2f6",
   "metadata": {},
   "outputs": [],
   "source": [
    "from sklearn.tree import DecisionTreeRegressor #DecisionTreeClassifier\n",
    "from sklearn.linear_model import LinearRegression\n",
    "from sklearn.ensemble import RandomForestRegressor#RandomForestClassifier"
   ]
  },
  {
   "cell_type": "code",
   "execution_count": 56,
   "id": "1b0d6d89",
   "metadata": {},
   "outputs": [],
   "source": [
    "Linreg=LinearRegression()"
   ]
  },
  {
   "cell_type": "code",
   "execution_count": 57,
   "id": "08fb90d6",
   "metadata": {},
   "outputs": [],
   "source": [
    "Y=df_final[\"Sales\"]"
   ]
  },
  {
   "cell_type": "code",
   "execution_count": 58,
   "id": "df78b36e",
   "metadata": {},
   "outputs": [],
   "source": [
    "X=df_final.drop([\"Sales\"],axis=1)"
   ]
  },
  {
   "cell_type": "code",
   "execution_count": 59,
   "id": "64f72eb9",
   "metadata": {},
   "outputs": [],
   "source": [
    "from sklearn.model_selection import train_test_split"
   ]
  },
  {
   "cell_type": "code",
   "execution_count": 60,
   "id": "d18c0f52",
   "metadata": {},
   "outputs": [],
   "source": [
    "X_train, X_test, y_train, y_test = train_test_split(X, Y, test_size=0.3, random_state=1)"
   ]
  },
  {
   "cell_type": "code",
   "execution_count": null,
   "id": "6f054a94",
   "metadata": {},
   "outputs": [],
   "source": []
  },
  {
   "cell_type": "code",
   "execution_count": null,
   "id": "83d6b766",
   "metadata": {},
   "outputs": [],
   "source": []
  },
  {
   "cell_type": "code",
   "execution_count": null,
   "id": "eda796fd",
   "metadata": {},
   "outputs": [],
   "source": []
  },
  {
   "cell_type": "code",
   "execution_count": 61,
   "id": "f1793ddd",
   "metadata": {},
   "outputs": [],
   "source": [
    "lm=Linreg.fit(X_train,y_train)"
   ]
  },
  {
   "cell_type": "code",
   "execution_count": 62,
   "id": "6990cd6d",
   "metadata": {},
   "outputs": [
    {
     "data": {
      "text/plain": [
       "0.4635071002088049"
      ]
     },
     "execution_count": 62,
     "metadata": {},
     "output_type": "execute_result"
    }
   ],
   "source": [
    "Linreg.score(X_train,y_train)"
   ]
  },
  {
   "cell_type": "code",
   "execution_count": 63,
   "id": "1b5218fd",
   "metadata": {},
   "outputs": [],
   "source": [
    "dtr=DecisionTreeRegressor(criterion=\"mse\")"
   ]
  },
  {
   "cell_type": "code",
   "execution_count": 64,
   "id": "ea7d1054",
   "metadata": {},
   "outputs": [],
   "source": [
    "#dtr=DecisionTreeRegressor(criterion=\"gini\")"
   ]
  },
  {
   "cell_type": "code",
   "execution_count": 65,
   "id": "7e541ba0",
   "metadata": {},
   "outputs": [
    {
     "name": "stderr",
     "output_type": "stream",
     "text": [
      "C:\\Users\\Lalith Eswar\\anaconda3\\lib\\site-packages\\sklearn\\tree\\_classes.py:359: FutureWarning: Criterion 'mse' was deprecated in v1.0 and will be removed in version 1.2. Use `criterion='squared_error'` which is equivalent.\n",
      "  warnings.warn(\n"
     ]
    }
   ],
   "source": [
    "dt1=dtr.fit(X_train,y_train)"
   ]
  },
  {
   "cell_type": "code",
   "execution_count": 66,
   "id": "00253f58",
   "metadata": {},
   "outputs": [
    {
     "data": {
      "text/plain": [
       "1.0"
      ]
     },
     "execution_count": 66,
     "metadata": {},
     "output_type": "execute_result"
    }
   ],
   "source": [
    "dtr.score(X_train,y_train)"
   ]
  },
  {
   "cell_type": "code",
   "execution_count": 67,
   "id": "d8f6ce41",
   "metadata": {},
   "outputs": [],
   "source": [
    "rf=RandomForestRegressor(n_estimators=100,random_state=50)"
   ]
  },
  {
   "cell_type": "code",
   "execution_count": 68,
   "id": "9ea97001",
   "metadata": {},
   "outputs": [],
   "source": [
    "rf1=rf.fit(X_train,y_train)"
   ]
  },
  {
   "cell_type": "code",
   "execution_count": 69,
   "id": "032aeeca",
   "metadata": {},
   "outputs": [
    {
     "data": {
      "text/plain": [
       "0.9356208161053988"
      ]
     },
     "execution_count": 69,
     "metadata": {},
     "output_type": "execute_result"
    }
   ],
   "source": [
    "rf.score(X_train,y_train)"
   ]
  },
  {
   "cell_type": "code",
   "execution_count": 70,
   "id": "aa2119a9",
   "metadata": {},
   "outputs": [],
   "source": [
    "y_pre_rf = rf.predict(X_test)"
   ]
  },
  {
   "cell_type": "code",
   "execution_count": 71,
   "id": "ef015c9a",
   "metadata": {},
   "outputs": [],
   "source": [
    "\n",
    "from sklearn.metrics import mean_squared_error,mean_absolute_error"
   ]
  },
  {
   "cell_type": "code",
   "execution_count": 72,
   "id": "41e80a48",
   "metadata": {},
   "outputs": [
    {
     "data": {
      "text/plain": [
       "0.03031141231204717"
      ]
     },
     "execution_count": 72,
     "metadata": {},
     "output_type": "execute_result"
    }
   ],
   "source": [
    "mean_squared_error(y_test,y_pre_rf)"
   ]
  },
  {
   "cell_type": "code",
   "execution_count": 73,
   "id": "bcd10101",
   "metadata": {},
   "outputs": [
    {
     "data": {
      "text/plain": [
       "0.13724533673577083"
      ]
     },
     "execution_count": 73,
     "metadata": {},
     "output_type": "execute_result"
    }
   ],
   "source": [
    "mean_absolute_error(y_test,y_pre_rf)"
   ]
  },
  {
   "cell_type": "code",
   "execution_count": 74,
   "id": "570f37aa",
   "metadata": {},
   "outputs": [],
   "source": [
    "from math import sqrt"
   ]
  },
  {
   "cell_type": "code",
   "execution_count": 75,
   "id": "43096342",
   "metadata": {},
   "outputs": [
    {
     "data": {
      "text/plain": [
       "0.17410172977902078"
      ]
     },
     "execution_count": 75,
     "metadata": {},
     "output_type": "execute_result"
    }
   ],
   "source": [
    "sqrt(mean_squared_error(y_test,y_pre_rf))"
   ]
  },
  {
   "cell_type": "code",
   "execution_count": 76,
   "id": "be56c8fb",
   "metadata": {},
   "outputs": [],
   "source": [
    "from sklearn.ensemble import GradientBoostingRegressor"
   ]
  },
  {
   "cell_type": "code",
   "execution_count": 86,
   "id": "3523eaee",
   "metadata": {},
   "outputs": [],
   "source": [
    "gb_r = GradientBoostingRegressor(n_estimators=600)"
   ]
  },
  {
   "cell_type": "code",
   "execution_count": 84,
   "id": "0eca7893",
   "metadata": {},
   "outputs": [],
   "source": [
    "import xgboost as xg"
   ]
  },
  {
   "cell_type": "markdown",
   "id": "7b55d351",
   "metadata": {},
   "source": [
    "!pip install xgboost"
   ]
  },
  {
   "cell_type": "code",
   "execution_count": 85,
   "id": "1e45a80e",
   "metadata": {},
   "outputs": [],
   "source": [
    "xgb_r = xg.XGBRegressor(n_estimators = 10)"
   ]
  },
  {
   "cell_type": "code",
   "execution_count": 87,
   "id": "3f81391b",
   "metadata": {},
   "outputs": [],
   "source": [
    "gbr_model=gb_r.fit(X_train,y_train)"
   ]
  },
  {
   "cell_type": "code",
   "execution_count": 89,
   "id": "4e4d813b",
   "metadata": {},
   "outputs": [],
   "source": [
    "xgb_model=xgb_r.fit(X_train,y_train)"
   ]
  },
  {
   "cell_type": "code",
   "execution_count": 90,
   "id": "9bfdba63",
   "metadata": {},
   "outputs": [
    {
     "data": {
      "text/plain": [
       "0.8690527772092067"
      ]
     },
     "execution_count": 90,
     "metadata": {},
     "output_type": "execute_result"
    }
   ],
   "source": [
    "gb_r.score(X_train,y_train)"
   ]
  },
  {
   "cell_type": "code",
   "execution_count": 91,
   "id": "5fb73838",
   "metadata": {},
   "outputs": [
    {
     "data": {
      "text/plain": [
       "0.7474519230761958"
      ]
     },
     "execution_count": 91,
     "metadata": {},
     "output_type": "execute_result"
    }
   ],
   "source": [
    "xgb_r.score(X_train,y_train)"
   ]
  },
  {
   "cell_type": "code",
   "execution_count": 93,
   "id": "fd04fd95",
   "metadata": {},
   "outputs": [],
   "source": [
    "from sklearn.ensemble import AdaBoostRegressor"
   ]
  },
  {
   "cell_type": "code",
   "execution_count": 94,
   "id": "272c6f32",
   "metadata": {},
   "outputs": [],
   "source": [
    "ab_r=AdaBoostRegressor(n_estimators=100)"
   ]
  },
  {
   "cell_type": "code",
   "execution_count": 95,
   "id": "db643453",
   "metadata": {},
   "outputs": [],
   "source": [
    "abr_model=ab_r.fit(X_train,y_train)"
   ]
  },
  {
   "cell_type": "code",
   "execution_count": 96,
   "id": "e06fa072",
   "metadata": {},
   "outputs": [
    {
     "data": {
      "text/plain": [
       "0.4723451318240136"
      ]
     },
     "execution_count": 96,
     "metadata": {},
     "output_type": "execute_result"
    }
   ],
   "source": [
    "ab_r.score(X_train,y_train)"
   ]
  },
  {
   "cell_type": "code",
   "execution_count": 97,
   "id": "8c934121",
   "metadata": {},
   "outputs": [
    {
     "name": "stdout",
     "output_type": "stream",
     "text": [
      "Requirement already satisfied: xgboost in c:\\users\\lalith eswar\\anaconda3\\lib\\site-packages (1.6.2)\n",
      "Requirement already satisfied: numpy in c:\\users\\lalith eswar\\anaconda3\\lib\\site-packages (from xgboost) (1.21.5)\n",
      "Requirement already satisfied: scipy in c:\\users\\lalith eswar\\anaconda3\\lib\\site-packages (from xgboost) (1.7.3)\n"
     ]
    }
   ],
   "source": [
    "!pip install xgboost"
   ]
  },
  {
   "cell_type": "code",
   "execution_count": null,
   "id": "f9c664f7",
   "metadata": {},
   "outputs": [],
   "source": []
  }
 ],
 "metadata": {
  "kernelspec": {
   "display_name": "Python 3 (ipykernel)",
   "language": "python",
   "name": "python3"
  },
  "language_info": {
   "codemirror_mode": {
    "name": "ipython",
    "version": 3
   },
   "file_extension": ".py",
   "mimetype": "text/x-python",
   "name": "python",
   "nbconvert_exporter": "python",
   "pygments_lexer": "ipython3",
   "version": "3.9.12"
  }
 },
 "nbformat": 4,
 "nbformat_minor": 5
}
