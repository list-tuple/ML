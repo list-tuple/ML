{
 "cells": [
  {
   "cell_type": "markdown",
   "id": "64afa014",
   "metadata": {},
   "source": [
    "1.Machine learning introduction \n",
    "Pandas \n",
    "\n",
    "2.\n",
    "Understanding dataset and problem,\n",
    "Stats,Mean median mode SD, Range, variance, kurtosis, skew\n",
    "Missing value Imputation \n",
    "\n",
    "3.Visualization,\n",
    "Outlier treatment \n",
    "\n",
    "4. Encoding,\n",
    "Scaling \n",
    "\n",
    "5.regression algorithms \n",
    "\n",
    "6. Classification algorithms \n",
    "\n",
    "7.error metrics\n",
    "R2score rmse Mae mse\n",
    "accuracy score, confusion matrix, precision recall\n",
    "Training, testing, validation sets \n",
    "\n",
    "8.overfitting, underfitting, boosting, bagging, lasso, ridge \n",
    "\n",
    "9 cross validation, PCA\n",
    "saving models pickleing \n",
    "\n",
    "10. Solving a regression problem\n",
    "11. Solving a classification problem"
   ]
  },
  {
   "cell_type": "markdown",
   "id": "c98b8677",
   "metadata": {},
   "source": [
    "# binary class classification problem=> will have only two states of data ex: Male/Female, Yes/NO"
   ]
  },
  {
   "cell_type": "markdown",
   "id": "e7670eec",
   "metadata": {},
   "source": [
    "# multi class classification problem => more than two state of data possibility will be there ex: veryhigh/high/medium/low/verylow"
   ]
  },
  {
   "cell_type": "markdown",
   "id": "6496e292",
   "metadata": {},
   "source": [
    "# continous variable => data is continous ex: 10.23, 24.56,67.34\n",
    "# categorical variable => only limit state 2 states(binary), more than 2 state( multi class classification). ex: Male/Female, high/medium/low, True/False, Yes/No"
   ]
  },
  {
   "cell_type": "markdown",
   "id": "6ce94b56",
   "metadata": {},
   "source": [
    "# nominal => True/False, Male/Female"
   ]
  },
  {
   "cell_type": "markdown",
   "id": "3d20670c",
   "metadata": {},
   "source": [
    "# ordinal => High/medium/low"
   ]
  },
  {
   "cell_type": "markdown",
   "id": "1a226d08",
   "metadata": {},
   "source": [
    "# classification problem => if the target variable is categorical variable"
   ]
  },
  {
   "cell_type": "markdown",
   "id": "1cd4de27",
   "metadata": {},
   "source": [
    "# regression problem => if the target variable is coninous variable"
   ]
  }
 ],
 "metadata": {
  "kernelspec": {
   "display_name": "Python 3 (ipykernel)",
   "language": "python",
   "name": "python3"
  },
  "language_info": {
   "codemirror_mode": {
    "name": "ipython",
    "version": 3
   },
   "file_extension": ".py",
   "mimetype": "text/x-python",
   "name": "python",
   "nbconvert_exporter": "python",
   "pygments_lexer": "ipython3",
   "version": "3.9.12"
  }
 },
 "nbformat": 4,
 "nbformat_minor": 5
}
