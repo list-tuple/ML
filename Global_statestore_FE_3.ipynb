{
 "cells": [
  {
   "cell_type": "code",
   "execution_count": 1,
   "id": "c3f48888",
   "metadata": {},
   "outputs": [],
   "source": [
    "import pandas as pd"
   ]
  },
  {
   "cell_type": "code",
   "execution_count": 2,
   "id": "bbf5d4d3",
   "metadata": {},
   "outputs": [],
   "source": [
    "dfa=pd.read_excel(\"Global Superstore.xls\",\"Orders\")"
   ]
  },
  {
   "cell_type": "code",
   "execution_count": 3,
   "id": "5ce10514",
   "metadata": {},
   "outputs": [
    {
     "data": {
      "text/plain": [
       "(51290, 24)"
      ]
     },
     "execution_count": 3,
     "metadata": {},
     "output_type": "execute_result"
    }
   ],
   "source": [
    "dfa.shape"
   ]
  },
  {
   "cell_type": "code",
   "execution_count": 4,
   "id": "559412c5",
   "metadata": {},
   "outputs": [
    {
     "data": {
      "text/plain": [
       "Index(['Row ID', 'Order ID', 'Order Date', 'Ship Date', 'Ship Mode',\n",
       "       'Customer ID', 'Customer Name', 'Segment', 'City', 'State', 'Country',\n",
       "       'Postal Code', 'Market', 'Region', 'Product ID', 'Category',\n",
       "       'Sub-Category', 'Product Name', 'Sales', 'Quantity', 'Discount',\n",
       "       'Profit', 'Shipping Cost', 'Order Priority'],\n",
       "      dtype='object')"
      ]
     },
     "execution_count": 4,
     "metadata": {},
     "output_type": "execute_result"
    }
   ],
   "source": [
    "dfa.columns"
   ]
  },
  {
   "cell_type": "code",
   "execution_count": 5,
   "id": "1904c606",
   "metadata": {},
   "outputs": [
    {
     "data": {
      "text/plain": [
       "Row ID                     int64\n",
       "Order ID                  object\n",
       "Order Date        datetime64[ns]\n",
       "Ship Date         datetime64[ns]\n",
       "Ship Mode                 object\n",
       "Customer ID               object\n",
       "Customer Name             object\n",
       "Segment                   object\n",
       "City                      object\n",
       "State                     object\n",
       "Country                   object\n",
       "Postal Code              float64\n",
       "Market                    object\n",
       "Region                    object\n",
       "Product ID                object\n",
       "Category                  object\n",
       "Sub-Category              object\n",
       "Product Name              object\n",
       "Sales                    float64\n",
       "Quantity                   int64\n",
       "Discount                 float64\n",
       "Profit                   float64\n",
       "Shipping Cost            float64\n",
       "Order Priority            object\n",
       "dtype: object"
      ]
     },
     "execution_count": 5,
     "metadata": {},
     "output_type": "execute_result"
    }
   ],
   "source": [
    "dfa.dtypes"
   ]
  },
  {
   "cell_type": "code",
   "execution_count": 6,
   "id": "d406fc31",
   "metadata": {},
   "outputs": [
    {
     "data": {
      "text/plain": [
       "array(['Critical', 'Medium', 'High', 'Low'], dtype=object)"
      ]
     },
     "execution_count": 6,
     "metadata": {},
     "output_type": "execute_result"
    }
   ],
   "source": [
    "dfa[\"Order Priority\"].unique()"
   ]
  },
  {
   "cell_type": "code",
   "execution_count": 7,
   "id": "198f4cd5",
   "metadata": {},
   "outputs": [],
   "source": [
    "df1=dfa[(dfa[\"Order Priority\"] == \"High\") | (dfa[\"Order Priority\"] == \"Low\")]"
   ]
  },
  {
   "cell_type": "code",
   "execution_count": 8,
   "id": "71994b78",
   "metadata": {},
   "outputs": [
    {
     "data": {
      "text/plain": [
       "array(['High', 'Low'], dtype=object)"
      ]
     },
     "execution_count": 8,
     "metadata": {},
     "output_type": "execute_result"
    }
   ],
   "source": [
    "df1[\"Order Priority\"].unique()"
   ]
  },
  {
   "cell_type": "code",
   "execution_count": 9,
   "id": "ed222dca",
   "metadata": {},
   "outputs": [],
   "source": [
    "df=df1"
   ]
  },
  {
   "cell_type": "code",
   "execution_count": null,
   "id": "bd85482f",
   "metadata": {},
   "outputs": [],
   "source": []
  },
  {
   "cell_type": "code",
   "execution_count": 10,
   "id": "ec7a663b",
   "metadata": {},
   "outputs": [],
   "source": [
    "from matplotlib import pyplot as plt\n",
    "from matplotlib import style\n",
    "import seaborn as sns\n",
    "%matplotlib inline"
   ]
  },
  {
   "cell_type": "markdown",
   "id": "27446b7a",
   "metadata": {},
   "source": [
    "# values outside interquartile range(25% to 75%) is called outlier"
   ]
  },
  {
   "cell_type": "code",
   "execution_count": 11,
   "id": "dffe5c39",
   "metadata": {},
   "outputs": [
    {
     "data": {
      "text/html": [
       "<div>\n",
       "<style scoped>\n",
       "    .dataframe tbody tr th:only-of-type {\n",
       "        vertical-align: middle;\n",
       "    }\n",
       "\n",
       "    .dataframe tbody tr th {\n",
       "        vertical-align: top;\n",
       "    }\n",
       "\n",
       "    .dataframe thead th {\n",
       "        text-align: right;\n",
       "    }\n",
       "</style>\n",
       "<table border=\"1\" class=\"dataframe\">\n",
       "  <thead>\n",
       "    <tr style=\"text-align: right;\">\n",
       "      <th></th>\n",
       "      <th>Row ID</th>\n",
       "      <th>Postal Code</th>\n",
       "      <th>Sales</th>\n",
       "      <th>Quantity</th>\n",
       "      <th>Discount</th>\n",
       "      <th>Profit</th>\n",
       "      <th>Shipping Cost</th>\n",
       "    </tr>\n",
       "  </thead>\n",
       "  <tbody>\n",
       "    <tr>\n",
       "      <th>count</th>\n",
       "      <td>17925.000000</td>\n",
       "      <td>3501.000000</td>\n",
       "      <td>17925.000000</td>\n",
       "      <td>17925.000000</td>\n",
       "      <td>17925.000000</td>\n",
       "      <td>17925.000000</td>\n",
       "      <td>17925.000000</td>\n",
       "    </tr>\n",
       "    <tr>\n",
       "      <th>mean</th>\n",
       "      <td>25603.179135</td>\n",
       "      <td>55976.302771</td>\n",
       "      <td>244.093393</td>\n",
       "      <td>3.476597</td>\n",
       "      <td>0.143186</td>\n",
       "      <td>26.724093</td>\n",
       "      <td>32.088087</td>\n",
       "    </tr>\n",
       "    <tr>\n",
       "      <th>std</th>\n",
       "      <td>14794.163361</td>\n",
       "      <td>32314.033393</td>\n",
       "      <td>457.928104</td>\n",
       "      <td>2.276735</td>\n",
       "      <td>0.212772</td>\n",
       "      <td>168.702069</td>\n",
       "      <td>63.154805</td>\n",
       "    </tr>\n",
       "    <tr>\n",
       "      <th>min</th>\n",
       "      <td>14.000000</td>\n",
       "      <td>1453.000000</td>\n",
       "      <td>0.852000</td>\n",
       "      <td>1.000000</td>\n",
       "      <td>0.000000</td>\n",
       "      <td>-6599.978000</td>\n",
       "      <td>0.002000</td>\n",
       "    </tr>\n",
       "    <tr>\n",
       "      <th>25%</th>\n",
       "      <td>12664.000000</td>\n",
       "      <td>23320.000000</td>\n",
       "      <td>30.360000</td>\n",
       "      <td>2.000000</td>\n",
       "      <td>0.000000</td>\n",
       "      <td>0.000000</td>\n",
       "      <td>3.578000</td>\n",
       "    </tr>\n",
       "    <tr>\n",
       "      <th>50%</th>\n",
       "      <td>25625.000000</td>\n",
       "      <td>60423.000000</td>\n",
       "      <td>84.784000</td>\n",
       "      <td>3.000000</td>\n",
       "      <td>0.000000</td>\n",
       "      <td>9.180000</td>\n",
       "      <td>10.250000</td>\n",
       "    </tr>\n",
       "    <tr>\n",
       "      <th>75%</th>\n",
       "      <td>38306.000000</td>\n",
       "      <td>90032.000000</td>\n",
       "      <td>252.270000</td>\n",
       "      <td>5.000000</td>\n",
       "      <td>0.200000</td>\n",
       "      <td>36.864000</td>\n",
       "      <td>31.590000</td>\n",
       "    </tr>\n",
       "    <tr>\n",
       "      <th>max</th>\n",
       "      <td>51289.000000</td>\n",
       "      <td>99301.000000</td>\n",
       "      <td>11199.968000</td>\n",
       "      <td>14.000000</td>\n",
       "      <td>0.850000</td>\n",
       "      <td>3979.080000</td>\n",
       "      <td>878.380000</td>\n",
       "    </tr>\n",
       "  </tbody>\n",
       "</table>\n",
       "</div>"
      ],
      "text/plain": [
       "             Row ID   Postal Code         Sales      Quantity      Discount  \\\n",
       "count  17925.000000   3501.000000  17925.000000  17925.000000  17925.000000   \n",
       "mean   25603.179135  55976.302771    244.093393      3.476597      0.143186   \n",
       "std    14794.163361  32314.033393    457.928104      2.276735      0.212772   \n",
       "min       14.000000   1453.000000      0.852000      1.000000      0.000000   \n",
       "25%    12664.000000  23320.000000     30.360000      2.000000      0.000000   \n",
       "50%    25625.000000  60423.000000     84.784000      3.000000      0.000000   \n",
       "75%    38306.000000  90032.000000    252.270000      5.000000      0.200000   \n",
       "max    51289.000000  99301.000000  11199.968000     14.000000      0.850000   \n",
       "\n",
       "             Profit  Shipping Cost  \n",
       "count  17925.000000   17925.000000  \n",
       "mean      26.724093      32.088087  \n",
       "std      168.702069      63.154805  \n",
       "min    -6599.978000       0.002000  \n",
       "25%        0.000000       3.578000  \n",
       "50%        9.180000      10.250000  \n",
       "75%       36.864000      31.590000  \n",
       "max     3979.080000     878.380000  "
      ]
     },
     "execution_count": 11,
     "metadata": {},
     "output_type": "execute_result"
    }
   ],
   "source": [
    "df.describe()"
   ]
  },
  {
   "cell_type": "markdown",
   "id": "9b243b43",
   "metadata": {},
   "source": [
    "# Outlier Treatment"
   ]
  },
  {
   "cell_type": "code",
   "execution_count": 12,
   "id": "6a6da68a",
   "metadata": {},
   "outputs": [
    {
     "data": {
      "text/plain": [
       "{'whiskers': [<matplotlib.lines.Line2D at 0x192153bed30>,\n",
       "  <matplotlib.lines.Line2D at 0x19215a7b040>],\n",
       " 'caps': [<matplotlib.lines.Line2D at 0x19215a7b3d0>,\n",
       "  <matplotlib.lines.Line2D at 0x19215a7b5e0>],\n",
       " 'boxes': [<matplotlib.lines.Line2D at 0x192153bea60>],\n",
       " 'medians': [<matplotlib.lines.Line2D at 0x19215a7b8b0>],\n",
       " 'fliers': [<matplotlib.lines.Line2D at 0x19215a7bb80>],\n",
       " 'means': []}"
      ]
     },
     "execution_count": 12,
     "metadata": {},
     "output_type": "execute_result"
    },
    {
     "data": {
      "image/png": "[encoded data removed]",
      "text/plain": [
       "<Figure size 432x288 with 1 Axes>"
      ]
     },
     "metadata": {
      "needs_background": "light"
     },
     "output_type": "display_data"
    }
   ],
   "source": [
    "plt.boxplot(df[\"Profit\"])"
   ]
  },
  {
   "cell_type": "code",
   "execution_count": 13,
   "id": "8754cd71",
   "metadata": {},
   "outputs": [
    {
     "data": {
      "text/plain": [
       "0.10     -30.85632\n",
       "0.25       0.00000\n",
       "0.50       9.18000\n",
       "0.75      36.86400\n",
       "1.00    3979.08000\n",
       "Name: Profit, dtype: float64"
      ]
     },
     "execution_count": 13,
     "metadata": {},
     "output_type": "execute_result"
    }
   ],
   "source": [
    "df[\"Profit\"].quantile([0.1,0.25,0.5,0.75,1.0])"
   ]
  },
  {
   "cell_type": "code",
   "execution_count": 14,
   "id": "cbdbfe75",
   "metadata": {},
   "outputs": [
    {
     "data": {
      "text/plain": [
       "(17925, 24)"
      ]
     },
     "execution_count": 14,
     "metadata": {},
     "output_type": "execute_result"
    }
   ],
   "source": [
    "df.shape"
   ]
  },
  {
   "cell_type": "code",
   "execution_count": 15,
   "id": "3d156c22",
   "metadata": {},
   "outputs": [],
   "source": [
    "df_1=df[(df[\"Profit\"] >=0.0) & (df[\"Profit\"] <=36.8100)]"
   ]
  },
  {
   "cell_type": "code",
   "execution_count": 16,
   "id": "6b993f84",
   "metadata": {},
   "outputs": [
    {
     "data": {
      "text/plain": [
       "(9048, 24)"
      ]
     },
     "execution_count": 16,
     "metadata": {},
     "output_type": "execute_result"
    }
   ],
   "source": [
    "df_1.shape"
   ]
  },
  {
   "cell_type": "code",
   "execution_count": 17,
   "id": "99a91dcd",
   "metadata": {},
   "outputs": [
    {
     "data": {
      "text/plain": [
       "{'whiskers': [<matplotlib.lines.Line2D at 0x19215b5e610>,\n",
       "  <matplotlib.lines.Line2D at 0x19215b5e8e0>],\n",
       " 'caps': [<matplotlib.lines.Line2D at 0x19215b5ebe0>,\n",
       "  <matplotlib.lines.Line2D at 0x19215b5eeb0>],\n",
       " 'boxes': [<matplotlib.lines.Line2D at 0x19215b5e340>],\n",
       " 'medians': [<matplotlib.lines.Line2D at 0x19215c7b1c0>],\n",
       " 'fliers': [<matplotlib.lines.Line2D at 0x19215c7b490>],\n",
       " 'means': []}"
      ]
     },
     "execution_count": 17,
     "metadata": {},
     "output_type": "execute_result"
    },
    {
     "data": {
      "image/png": "[encoded data removed]",
      "text/plain": [
       "<Figure size 432x288 with 1 Axes>"
      ]
     },
     "metadata": {
      "needs_background": "light"
     },
     "output_type": "display_data"
    }
   ],
   "source": [
    "plt.boxplot(df_1[\"Profit\"])"
   ]
  },
  {
   "cell_type": "code",
   "execution_count": 18,
   "id": "7a1ef9a6",
   "metadata": {},
   "outputs": [
    {
     "data": {
      "text/plain": [
       "{'whiskers': [<matplotlib.lines.Line2D at 0x19215d1ab50>,\n",
       "  <matplotlib.lines.Line2D at 0x19215d1ae50>],\n",
       " 'caps': [<matplotlib.lines.Line2D at 0x19215d2b160>,\n",
       "  <matplotlib.lines.Line2D at 0x19215d2b430>],\n",
       " 'boxes': [<matplotlib.lines.Line2D at 0x19215d1a880>],\n",
       " 'medians': [<matplotlib.lines.Line2D at 0x19215d2b700>],\n",
       " 'fliers': [<matplotlib.lines.Line2D at 0x19215d2b9d0>],\n",
       " 'means': []}"
      ]
     },
     "execution_count": 18,
     "metadata": {},
     "output_type": "execute_result"
    },
    {
     "data": {
      "image/png": "[encoded data removed]",
      "text/plain": [
       "<Figure size 432x288 with 1 Axes>"
      ]
     },
     "metadata": {
      "needs_background": "light"
     },
     "output_type": "display_data"
    }
   ],
   "source": [
    "plt.boxplot(df_1[\"Sales\"])"
   ]
  },
  {
   "cell_type": "code",
   "execution_count": 19,
   "id": "03ab7b5c",
   "metadata": {},
   "outputs": [
    {
     "data": {
      "text/plain": [
       "0.10      12.3600\n",
       "0.25      23.3175\n",
       "0.50      48.4800\n",
       "0.75      95.9510\n",
       "1.00    3155.5440\n",
       "Name: Sales, dtype: float64"
      ]
     },
     "execution_count": 19,
     "metadata": {},
     "output_type": "execute_result"
    }
   ],
   "source": [
    "df_1[\"Sales\"].quantile([0.1,0.25,0.5,0.75,1.0])"
   ]
  },
  {
   "cell_type": "code",
   "execution_count": 20,
   "id": "a93d8a8d",
   "metadata": {},
   "outputs": [],
   "source": [
    "df_2=df_1[(df_1[\"Sales\"] >=23.64) & (df_1[\"Sales\"] <=96.18)]"
   ]
  },
  {
   "cell_type": "code",
   "execution_count": 21,
   "id": "e3ccb4a4",
   "metadata": {},
   "outputs": [
    {
     "data": {
      "text/plain": [
       "(4503, 24)"
      ]
     },
     "execution_count": 21,
     "metadata": {},
     "output_type": "execute_result"
    }
   ],
   "source": [
    "df_2.shape"
   ]
  },
  {
   "cell_type": "code",
   "execution_count": 22,
   "id": "c921eeb8",
   "metadata": {},
   "outputs": [
    {
     "data": {
      "text/plain": [
       "{'whiskers': [<matplotlib.lines.Line2D at 0x19215d96040>,\n",
       "  <matplotlib.lines.Line2D at 0x19215d96340>],\n",
       " 'caps': [<matplotlib.lines.Line2D at 0x19215d96610>,\n",
       "  <matplotlib.lines.Line2D at 0x19215d968e0>],\n",
       " 'boxes': [<matplotlib.lines.Line2D at 0x19215d85d30>],\n",
       " 'medians': [<matplotlib.lines.Line2D at 0x19215d96bb0>],\n",
       " 'fliers': [<matplotlib.lines.Line2D at 0x19215d96e80>],\n",
       " 'means': []}"
      ]
     },
     "execution_count": 22,
     "metadata": {},
     "output_type": "execute_result"
    },
    {
     "data": {
      "image/png": "[encoded data removed]",
      "text/plain": [
       "<Figure size 432x288 with 1 Axes>"
      ]
     },
     "metadata": {
      "needs_background": "light"
     },
     "output_type": "display_data"
    }
   ],
   "source": [
    "plt.boxplot(df_2[\"Sales\"])"
   ]
  },
  {
   "cell_type": "code",
   "execution_count": 23,
   "id": "38438600",
   "metadata": {},
   "outputs": [
    {
     "data": {
      "text/plain": [
       "{'whiskers': [<matplotlib.lines.Line2D at 0x19215df4a30>,\n",
       "  <matplotlib.lines.Line2D at 0x19215df4d00>],\n",
       " 'caps': [<matplotlib.lines.Line2D at 0x19215df4fd0>,\n",
       "  <matplotlib.lines.Line2D at 0x19215e022e0>],\n",
       " 'boxes': [<matplotlib.lines.Line2D at 0x19215df4760>],\n",
       " 'medians': [<matplotlib.lines.Line2D at 0x19215e025b0>],\n",
       " 'fliers': [<matplotlib.lines.Line2D at 0x19215e02880>],\n",
       " 'means': []}"
      ]
     },
     "execution_count": 23,
     "metadata": {},
     "output_type": "execute_result"
    },
    {
     "data": {
      "image/png": "[encoded data removed]",
      "text/plain": [
       "<Figure size 432x288 with 1 Axes>"
      ]
     },
     "metadata": {
      "needs_background": "light"
     },
     "output_type": "display_data"
    }
   ],
   "source": [
    "plt.boxplot(df_2[\"Quantity\"])"
   ]
  },
  {
   "cell_type": "code",
   "execution_count": 24,
   "id": "285fa8df",
   "metadata": {},
   "outputs": [
    {
     "data": {
      "text/plain": [
       "0.10     1.0\n",
       "0.25     2.0\n",
       "0.50     3.0\n",
       "0.75     4.0\n",
       "1.00    14.0\n",
       "Name: Quantity, dtype: float64"
      ]
     },
     "execution_count": 24,
     "metadata": {},
     "output_type": "execute_result"
    }
   ],
   "source": [
    "df_2[\"Quantity\"].quantile([0.1,0.25,0.5,0.75,1.0])"
   ]
  },
  {
   "cell_type": "code",
   "execution_count": 25,
   "id": "39efa281",
   "metadata": {},
   "outputs": [],
   "source": [
    "df_3=df_2[(df_2[\"Quantity\"] >=2.0) & (df_2[\"Quantity\"] <=4.0)]"
   ]
  },
  {
   "cell_type": "code",
   "execution_count": 26,
   "id": "1d4468b7",
   "metadata": {},
   "outputs": [
    {
     "data": {
      "text/plain": [
       "(2723, 24)"
      ]
     },
     "execution_count": 26,
     "metadata": {},
     "output_type": "execute_result"
    }
   ],
   "source": [
    "df_3.shape"
   ]
  },
  {
   "cell_type": "code",
   "execution_count": 27,
   "id": "493231b0",
   "metadata": {},
   "outputs": [
    {
     "data": {
      "text/plain": [
       "{'whiskers': [<matplotlib.lines.Line2D at 0x19215e68190>,\n",
       "  <matplotlib.lines.Line2D at 0x19215e68460>],\n",
       " 'caps': [<matplotlib.lines.Line2D at 0x19215e68730>,\n",
       "  <matplotlib.lines.Line2D at 0x19215e68a00>],\n",
       " 'boxes': [<matplotlib.lines.Line2D at 0x19215e59e80>],\n",
       " 'medians': [<matplotlib.lines.Line2D at 0x19215e68cd0>],\n",
       " 'fliers': [<matplotlib.lines.Line2D at 0x19215e68fa0>],\n",
       " 'means': []}"
      ]
     },
     "execution_count": 27,
     "metadata": {},
     "output_type": "execute_result"
    },
    {
     "data": {
      "image/png": "[encoded data removed]",
      "text/plain": [
       "<Figure size 432x288 with 1 Axes>"
      ]
     },
     "metadata": {
      "needs_background": "light"
     },
     "output_type": "display_data"
    }
   ],
   "source": [
    "plt.boxplot(df_3[\"Quantity\"])"
   ]
  },
  {
   "cell_type": "code",
   "execution_count": 28,
   "id": "e64011f6",
   "metadata": {},
   "outputs": [
    {
     "data": {
      "text/plain": [
       "{'whiskers': [<matplotlib.lines.Line2D at 0x19215eeb160>,\n",
       "  <matplotlib.lines.Line2D at 0x19215eeb430>],\n",
       " 'caps': [<matplotlib.lines.Line2D at 0x19215eeb700>,\n",
       "  <matplotlib.lines.Line2D at 0x19215eeb9d0>],\n",
       " 'boxes': [<matplotlib.lines.Line2D at 0x19215ed9e50>],\n",
       " 'medians': [<matplotlib.lines.Line2D at 0x19215eebca0>],\n",
       " 'fliers': [<matplotlib.lines.Line2D at 0x19215eebf70>],\n",
       " 'means': []}"
      ]
     },
     "execution_count": 28,
     "metadata": {},
     "output_type": "execute_result"
    },
    {
     "data": {
      "image/png": "[encoded data removed]",
      "text/plain": [
       "<Figure size 432x288 with 1 Axes>"
      ]
     },
     "metadata": {
      "needs_background": "light"
     },
     "output_type": "display_data"
    }
   ],
   "source": [
    "plt.boxplot(df_3[\"Shipping Cost\"])"
   ]
  },
  {
   "cell_type": "code",
   "execution_count": 29,
   "id": "8aaad2a4",
   "metadata": {},
   "outputs": [
    {
     "data": {
      "text/plain": [
       "0.10     2.800\n",
       "0.25     4.075\n",
       "0.50     6.078\n",
       "0.75     8.800\n",
       "1.00    27.650\n",
       "Name: Shipping Cost, dtype: float64"
      ]
     },
     "execution_count": 29,
     "metadata": {},
     "output_type": "execute_result"
    }
   ],
   "source": [
    "df_3[\"Shipping Cost\"].quantile([0.1,0.25,0.5,0.75,1.0])"
   ]
  },
  {
   "cell_type": "code",
   "execution_count": 30,
   "id": "771fef27",
   "metadata": {},
   "outputs": [],
   "source": [
    "df_4=df_3[(df_3[\"Shipping Cost\"] >=2.70) & (df_3[\"Shipping Cost\"] <=7.23675)]"
   ]
  },
  {
   "cell_type": "code",
   "execution_count": 31,
   "id": "13e6b0e7",
   "metadata": {},
   "outputs": [
    {
     "data": {
      "text/plain": [
       "(1455, 24)"
      ]
     },
     "execution_count": 31,
     "metadata": {},
     "output_type": "execute_result"
    }
   ],
   "source": [
    "df_4.shape"
   ]
  },
  {
   "cell_type": "code",
   "execution_count": 32,
   "id": "bbc3460f",
   "metadata": {},
   "outputs": [
    {
     "data": {
      "text/plain": [
       "{'whiskers': [<matplotlib.lines.Line2D at 0x19215f3a0a0>,\n",
       "  <matplotlib.lines.Line2D at 0x19215f3a370>],\n",
       " 'caps': [<matplotlib.lines.Line2D at 0x19215f3a640>,\n",
       "  <matplotlib.lines.Line2D at 0x19215f3a910>],\n",
       " 'boxes': [<matplotlib.lines.Line2D at 0x19215f2ed60>],\n",
       " 'medians': [<matplotlib.lines.Line2D at 0x19215f3abe0>],\n",
       " 'fliers': [<matplotlib.lines.Line2D at 0x19215f3aeb0>],\n",
       " 'means': []}"
      ]
     },
     "execution_count": 32,
     "metadata": {},
     "output_type": "execute_result"
    },
    {
     "data": {
      "image/png": "[encoded data removed]",
      "text/plain": [
       "<Figure size 432x288 with 1 Axes>"
      ]
     },
     "metadata": {
      "needs_background": "light"
     },
     "output_type": "display_data"
    }
   ],
   "source": [
    "plt.boxplot(df_4[\"Shipping Cost\"])"
   ]
  },
  {
   "cell_type": "code",
   "execution_count": 33,
   "id": "aa5680bd",
   "metadata": {},
   "outputs": [
    {
     "data": {
      "text/html": [
       "<div>\n",
       "<style scoped>\n",
       "    .dataframe tbody tr th:only-of-type {\n",
       "        vertical-align: middle;\n",
       "    }\n",
       "\n",
       "    .dataframe tbody tr th {\n",
       "        vertical-align: top;\n",
       "    }\n",
       "\n",
       "    .dataframe thead th {\n",
       "        text-align: right;\n",
       "    }\n",
       "</style>\n",
       "<table border=\"1\" class=\"dataframe\">\n",
       "  <thead>\n",
       "    <tr style=\"text-align: right;\">\n",
       "      <th></th>\n",
       "      <th>Row ID</th>\n",
       "      <th>Order ID</th>\n",
       "      <th>Order Date</th>\n",
       "      <th>Ship Date</th>\n",
       "      <th>Ship Mode</th>\n",
       "      <th>Customer ID</th>\n",
       "      <th>Customer Name</th>\n",
       "      <th>Segment</th>\n",
       "      <th>City</th>\n",
       "      <th>State</th>\n",
       "      <th>...</th>\n",
       "      <th>Product ID</th>\n",
       "      <th>Category</th>\n",
       "      <th>Sub-Category</th>\n",
       "      <th>Product Name</th>\n",
       "      <th>Sales</th>\n",
       "      <th>Quantity</th>\n",
       "      <th>Discount</th>\n",
       "      <th>Profit</th>\n",
       "      <th>Shipping Cost</th>\n",
       "      <th>Order Priority</th>\n",
       "    </tr>\n",
       "  </thead>\n",
       "  <tbody>\n",
       "    <tr>\n",
       "      <th>26583</th>\n",
       "      <td>10778</td>\n",
       "      <td>ES-2014-5617990</td>\n",
       "      <td>2014-09-11</td>\n",
       "      <td>2014-09-12</td>\n",
       "      <td>First Class</td>\n",
       "      <td>LW-16825</td>\n",
       "      <td>Laurel Workman</td>\n",
       "      <td>Corporate</td>\n",
       "      <td>Schiltigheim</td>\n",
       "      <td>Alsace</td>\n",
       "      <td>...</td>\n",
       "      <td>OFF-SU-10003160</td>\n",
       "      <td>Office Supplies</td>\n",
       "      <td>Supplies</td>\n",
       "      <td>Acme Ruler, High Speed</td>\n",
       "      <td>33.420</td>\n",
       "      <td>2</td>\n",
       "      <td>0.0</td>\n",
       "      <td>1.320</td>\n",
       "      <td>7.230</td>\n",
       "      <td>High</td>\n",
       "    </tr>\n",
       "    <tr>\n",
       "      <th>26586</th>\n",
       "      <td>21231</td>\n",
       "      <td>IN-2012-45951</td>\n",
       "      <td>2012-11-02</td>\n",
       "      <td>2012-11-06</td>\n",
       "      <td>Standard Class</td>\n",
       "      <td>JG-15115</td>\n",
       "      <td>Jack Garza</td>\n",
       "      <td>Consumer</td>\n",
       "      <td>Bhopal</td>\n",
       "      <td>Madhya Pradesh</td>\n",
       "      <td>...</td>\n",
       "      <td>OFF-EN-10000315</td>\n",
       "      <td>Office Supplies</td>\n",
       "      <td>Envelopes</td>\n",
       "      <td>Jiffy Business Envelopes, Security-Tint</td>\n",
       "      <td>47.880</td>\n",
       "      <td>3</td>\n",
       "      <td>0.0</td>\n",
       "      <td>9.090</td>\n",
       "      <td>7.230</td>\n",
       "      <td>High</td>\n",
       "    </tr>\n",
       "    <tr>\n",
       "      <th>26587</th>\n",
       "      <td>23945</td>\n",
       "      <td>IN-2012-40547</td>\n",
       "      <td>2012-11-29</td>\n",
       "      <td>2012-11-30</td>\n",
       "      <td>First Class</td>\n",
       "      <td>GT-14710</td>\n",
       "      <td>Greg Tran</td>\n",
       "      <td>Consumer</td>\n",
       "      <td>Adelaide</td>\n",
       "      <td>South Australia</td>\n",
       "      <td>...</td>\n",
       "      <td>OFF-BI-10004685</td>\n",
       "      <td>Office Supplies</td>\n",
       "      <td>Binders</td>\n",
       "      <td>Acco Binder, Economy</td>\n",
       "      <td>40.905</td>\n",
       "      <td>3</td>\n",
       "      <td>0.1</td>\n",
       "      <td>9.495</td>\n",
       "      <td>7.230</td>\n",
       "      <td>High</td>\n",
       "    </tr>\n",
       "    <tr>\n",
       "      <th>26610</th>\n",
       "      <td>469</td>\n",
       "      <td>MX-2013-160115</td>\n",
       "      <td>2013-10-11</td>\n",
       "      <td>2013-10-18</td>\n",
       "      <td>Standard Class</td>\n",
       "      <td>TM-21490</td>\n",
       "      <td>Tony Molinari</td>\n",
       "      <td>Consumer</td>\n",
       "      <td>Ilopango</td>\n",
       "      <td>San Salvador</td>\n",
       "      <td>...</td>\n",
       "      <td>OFF-AR-10003989</td>\n",
       "      <td>Office Supplies</td>\n",
       "      <td>Art</td>\n",
       "      <td>Sanford Pencil Sharpener, Fluorescent</td>\n",
       "      <td>51.660</td>\n",
       "      <td>3</td>\n",
       "      <td>0.0</td>\n",
       "      <td>22.680</td>\n",
       "      <td>7.224</td>\n",
       "      <td>Low</td>\n",
       "    </tr>\n",
       "    <tr>\n",
       "      <th>26611</th>\n",
       "      <td>1927</td>\n",
       "      <td>MX-2014-167724</td>\n",
       "      <td>2014-09-22</td>\n",
       "      <td>2014-09-24</td>\n",
       "      <td>First Class</td>\n",
       "      <td>CG-12520</td>\n",
       "      <td>Claire Gute</td>\n",
       "      <td>Consumer</td>\n",
       "      <td>Guantánamo</td>\n",
       "      <td>Guantánamo</td>\n",
       "      <td>...</td>\n",
       "      <td>OFF-PA-10001385</td>\n",
       "      <td>Office Supplies</td>\n",
       "      <td>Paper</td>\n",
       "      <td>Xerox Memo Slips, 8.5 x 11</td>\n",
       "      <td>35.340</td>\n",
       "      <td>3</td>\n",
       "      <td>0.0</td>\n",
       "      <td>9.180</td>\n",
       "      <td>7.220</td>\n",
       "      <td>High</td>\n",
       "    </tr>\n",
       "  </tbody>\n",
       "</table>\n",
       "<p>5 rows × 24 columns</p>\n",
       "</div>"
      ],
      "text/plain": [
       "       Row ID         Order ID Order Date  Ship Date       Ship Mode  \\\n",
       "26583   10778  ES-2014-5617990 2014-09-11 2014-09-12     First Class   \n",
       "26586   21231    IN-2012-45951 2012-11-02 2012-11-06  Standard Class   \n",
       "26587   23945    IN-2012-40547 2012-11-29 2012-11-30     First Class   \n",
       "26610     469   MX-2013-160115 2013-10-11 2013-10-18  Standard Class   \n",
       "26611    1927   MX-2014-167724 2014-09-22 2014-09-24     First Class   \n",
       "\n",
       "      Customer ID   Customer Name    Segment          City            State  \\\n",
       "26583    LW-16825  Laurel Workman  Corporate  Schiltigheim           Alsace   \n",
       "26586    JG-15115      Jack Garza   Consumer        Bhopal   Madhya Pradesh   \n",
       "26587    GT-14710       Greg Tran   Consumer      Adelaide  South Australia   \n",
       "26610    TM-21490   Tony Molinari   Consumer      Ilopango     San Salvador   \n",
       "26611    CG-12520     Claire Gute   Consumer    Guantánamo       Guantánamo   \n",
       "\n",
       "       ...       Product ID         Category Sub-Category  \\\n",
       "26583  ...  OFF-SU-10003160  Office Supplies     Supplies   \n",
       "26586  ...  OFF-EN-10000315  Office Supplies    Envelopes   \n",
       "26587  ...  OFF-BI-10004685  Office Supplies      Binders   \n",
       "26610  ...  OFF-AR-10003989  Office Supplies          Art   \n",
       "26611  ...  OFF-PA-10001385  Office Supplies        Paper   \n",
       "\n",
       "                                  Product Name   Sales Quantity Discount  \\\n",
       "26583                   Acme Ruler, High Speed  33.420        2      0.0   \n",
       "26586  Jiffy Business Envelopes, Security-Tint  47.880        3      0.0   \n",
       "26587                     Acco Binder, Economy  40.905        3      0.1   \n",
       "26610    Sanford Pencil Sharpener, Fluorescent  51.660        3      0.0   \n",
       "26611               Xerox Memo Slips, 8.5 x 11  35.340        3      0.0   \n",
       "\n",
       "       Profit  Shipping Cost  Order Priority  \n",
       "26583   1.320          7.230            High  \n",
       "26586   9.090          7.230            High  \n",
       "26587   9.495          7.230            High  \n",
       "26610  22.680          7.224             Low  \n",
       "26611   9.180          7.220            High  \n",
       "\n",
       "[5 rows x 24 columns]"
      ]
     },
     "execution_count": 33,
     "metadata": {},
     "output_type": "execute_result"
    }
   ],
   "source": [
    "df_4.head()"
   ]
  },
  {
   "cell_type": "markdown",
   "id": "a8581ac5",
   "metadata": {},
   "source": [
    "1. boxplot => to identify outlier\n",
    "2. outlier => simple and effective IQR technique"
   ]
  },
  {
   "cell_type": "markdown",
   "id": "b0768340",
   "metadata": {},
   "source": [
    "# Missing value imputations"
   ]
  },
  {
   "cell_type": "code",
   "execution_count": 34,
   "id": "fa848713",
   "metadata": {},
   "outputs": [
    {
     "data": {
      "text/plain": [
       "Row ID               0\n",
       "Order ID             0\n",
       "Order Date           0\n",
       "Ship Date            0\n",
       "Ship Mode            0\n",
       "Customer ID          0\n",
       "Customer Name        0\n",
       "Segment              0\n",
       "City                 0\n",
       "State                0\n",
       "Country              0\n",
       "Postal Code       1195\n",
       "Market               0\n",
       "Region               0\n",
       "Product ID           0\n",
       "Category             0\n",
       "Sub-Category         0\n",
       "Product Name         0\n",
       "Sales                0\n",
       "Quantity             0\n",
       "Discount             0\n",
       "Profit               0\n",
       "Shipping Cost        0\n",
       "Order Priority       0\n",
       "dtype: int64"
      ]
     },
     "execution_count": 34,
     "metadata": {},
     "output_type": "execute_result"
    }
   ],
   "source": [
    "df_4.isnull().sum()"
   ]
  },
  {
   "cell_type": "code",
   "execution_count": 35,
   "id": "143dd51a",
   "metadata": {},
   "outputs": [
    {
     "name": "stderr",
     "output_type": "stream",
     "text": [
      "C:\\Users\\Lalith Eswar\\AppData\\Local\\Temp\\ipykernel_30128\\3596599742.py:1: SettingWithCopyWarning: \n",
      "A value is trying to be set on a copy of a slice from a DataFrame\n",
      "\n",
      "See the caveats in the documentation: https://pandas.pydata.org/pandas-docs/stable/user_guide/indexing.html#returning-a-view-versus-a-copy\n",
      "  df_4.drop([\"Postal Code\"],axis=1,inplace=True)\n"
     ]
    }
   ],
   "source": [
    "df_4.drop([\"Postal Code\"],axis=1,inplace=True)"
   ]
  },
  {
   "cell_type": "code",
   "execution_count": 36,
   "id": "5ba96d23",
   "metadata": {},
   "outputs": [
    {
     "data": {
      "text/plain": [
       "Row ID            0\n",
       "Order ID          0\n",
       "Order Date        0\n",
       "Ship Date         0\n",
       "Ship Mode         0\n",
       "Customer ID       0\n",
       "Customer Name     0\n",
       "Segment           0\n",
       "City              0\n",
       "State             0\n",
       "Country           0\n",
       "Market            0\n",
       "Region            0\n",
       "Product ID        0\n",
       "Category          0\n",
       "Sub-Category      0\n",
       "Product Name      0\n",
       "Sales             0\n",
       "Quantity          0\n",
       "Discount          0\n",
       "Profit            0\n",
       "Shipping Cost     0\n",
       "Order Priority    0\n",
       "dtype: int64"
      ]
     },
     "execution_count": 36,
     "metadata": {},
     "output_type": "execute_result"
    }
   ],
   "source": [
    "df_4.isnull().sum()"
   ]
  },
  {
   "cell_type": "code",
   "execution_count": 37,
   "id": "153f467a",
   "metadata": {},
   "outputs": [],
   "source": [
    "import numpy as np"
   ]
  },
  {
   "cell_type": "code",
   "execution_count": 38,
   "id": "631e48cf",
   "metadata": {},
   "outputs": [],
   "source": [
    "df4_num=df_4.select_dtypes(include=[np.number])"
   ]
  },
  {
   "cell_type": "code",
   "execution_count": 39,
   "id": "014110f1",
   "metadata": {},
   "outputs": [],
   "source": [
    "df4_cat=df_4.select_dtypes(include=[\"object\"])"
   ]
  },
  {
   "cell_type": "code",
   "execution_count": 40,
   "id": "440e85b8",
   "metadata": {},
   "outputs": [
    {
     "data": {
      "text/plain": [
       "Index(['Row ID', 'Sales', 'Quantity', 'Discount', 'Profit', 'Shipping Cost'], dtype='object')"
      ]
     },
     "execution_count": 40,
     "metadata": {},
     "output_type": "execute_result"
    }
   ],
   "source": [
    "df4_num.columns"
   ]
  },
  {
   "cell_type": "code",
   "execution_count": 41,
   "id": "0a846b3c",
   "metadata": {},
   "outputs": [
    {
     "data": {
      "text/plain": [
       "Index(['Order ID', 'Ship Mode', 'Customer ID', 'Customer Name', 'Segment',\n",
       "       'City', 'State', 'Country', 'Market', 'Region', 'Product ID',\n",
       "       'Category', 'Sub-Category', 'Product Name', 'Order Priority'],\n",
       "      dtype='object')"
      ]
     },
     "execution_count": 41,
     "metadata": {},
     "output_type": "execute_result"
    }
   ],
   "source": [
    "df4_cat.columns"
   ]
  },
  {
   "cell_type": "markdown",
   "id": "bd36626b",
   "metadata": {},
   "source": [
    "# encoding, scaling"
   ]
  },
  {
   "cell_type": "code",
   "execution_count": 42,
   "id": "41faea7c",
   "metadata": {},
   "outputs": [],
   "source": [
    "df4_num.drop(['Row ID'],axis=1,inplace=True)"
   ]
  },
  {
   "cell_type": "code",
   "execution_count": 43,
   "id": "16b1ec6d",
   "metadata": {},
   "outputs": [],
   "source": [
    "from sklearn import preprocessing"
   ]
  },
  {
   "cell_type": "code",
   "execution_count": 44,
   "id": "29566272",
   "metadata": {},
   "outputs": [],
   "source": [
    "le=preprocessing.LabelEncoder()"
   ]
  },
  {
   "cell_type": "code",
   "execution_count": 45,
   "id": "2364534d",
   "metadata": {},
   "outputs": [],
   "source": [
    "mm_scaler = preprocessing.MinMaxScaler()"
   ]
  },
  {
   "cell_type": "code",
   "execution_count": 46,
   "id": "1dfe0572",
   "metadata": {},
   "outputs": [],
   "source": [
    "df4_cat_e =df4_cat.apply(le.fit_transform)"
   ]
  },
  {
   "cell_type": "code",
   "execution_count": 47,
   "id": "69d130e5",
   "metadata": {},
   "outputs": [
    {
     "data": {
      "text/plain": [
       "Index(['Sales', 'Quantity', 'Discount', 'Profit', 'Shipping Cost'], dtype='object')"
      ]
     },
     "execution_count": 47,
     "metadata": {},
     "output_type": "execute_result"
    }
   ],
   "source": [
    "df4_num.columns"
   ]
  },
  {
   "cell_type": "code",
   "execution_count": 48,
   "id": "590c0110",
   "metadata": {},
   "outputs": [],
   "source": [
    "df4_num_mm =mm_scaler.fit_transform(df4_num)"
   ]
  },
  {
   "cell_type": "code",
   "execution_count": 49,
   "id": "4fa2685a",
   "metadata": {},
   "outputs": [],
   "source": [
    "df4_num_mm_sc=pd.DataFrame(df4_num_mm)"
   ]
  },
  {
   "cell_type": "code",
   "execution_count": 50,
   "id": "8eac1732",
   "metadata": {},
   "outputs": [
    {
     "data": {
      "text/html": [
       "<div>\n",
       "<style scoped>\n",
       "    .dataframe tbody tr th:only-of-type {\n",
       "        vertical-align: middle;\n",
       "    }\n",
       "\n",
       "    .dataframe tbody tr th {\n",
       "        vertical-align: top;\n",
       "    }\n",
       "\n",
       "    .dataframe thead th {\n",
       "        text-align: right;\n",
       "    }\n",
       "</style>\n",
       "<table border=\"1\" class=\"dataframe\">\n",
       "  <thead>\n",
       "    <tr style=\"text-align: right;\">\n",
       "      <th></th>\n",
       "      <th>0</th>\n",
       "      <th>1</th>\n",
       "      <th>2</th>\n",
       "      <th>3</th>\n",
       "      <th>4</th>\n",
       "    </tr>\n",
       "  </thead>\n",
       "  <tbody>\n",
       "    <tr>\n",
       "      <th>0</th>\n",
       "      <td>0.135270</td>\n",
       "      <td>0.0</td>\n",
       "      <td>0.0</td>\n",
       "      <td>0.036214</td>\n",
       "      <td>1.000000</td>\n",
       "    </tr>\n",
       "    <tr>\n",
       "      <th>1</th>\n",
       "      <td>0.335270</td>\n",
       "      <td>0.5</td>\n",
       "      <td>0.0</td>\n",
       "      <td>0.249383</td>\n",
       "      <td>1.000000</td>\n",
       "    </tr>\n",
       "    <tr>\n",
       "      <th>2</th>\n",
       "      <td>0.238797</td>\n",
       "      <td>0.5</td>\n",
       "      <td>0.2</td>\n",
       "      <td>0.260494</td>\n",
       "      <td>1.000000</td>\n",
       "    </tr>\n",
       "    <tr>\n",
       "      <th>3</th>\n",
       "      <td>0.387552</td>\n",
       "      <td>0.5</td>\n",
       "      <td>0.0</td>\n",
       "      <td>0.622222</td>\n",
       "      <td>0.998675</td>\n",
       "    </tr>\n",
       "    <tr>\n",
       "      <th>4</th>\n",
       "      <td>0.161826</td>\n",
       "      <td>0.5</td>\n",
       "      <td>0.0</td>\n",
       "      <td>0.251852</td>\n",
       "      <td>0.997792</td>\n",
       "    </tr>\n",
       "  </tbody>\n",
       "</table>\n",
       "</div>"
      ],
      "text/plain": [
       "          0    1    2         3         4\n",
       "0  0.135270  0.0  0.0  0.036214  1.000000\n",
       "1  0.335270  0.5  0.0  0.249383  1.000000\n",
       "2  0.238797  0.5  0.2  0.260494  1.000000\n",
       "3  0.387552  0.5  0.0  0.622222  0.998675\n",
       "4  0.161826  0.5  0.0  0.251852  0.997792"
      ]
     },
     "execution_count": 50,
     "metadata": {},
     "output_type": "execute_result"
    }
   ],
   "source": [
    "df4_num_mm_sc.head()"
   ]
  },
  {
   "cell_type": "code",
   "execution_count": 51,
   "id": "bbee4155",
   "metadata": {},
   "outputs": [
    {
     "data": {
      "text/html": [
       "<div>\n",
       "<style scoped>\n",
       "    .dataframe tbody tr th:only-of-type {\n",
       "        vertical-align: middle;\n",
       "    }\n",
       "\n",
       "    .dataframe tbody tr th {\n",
       "        vertical-align: top;\n",
       "    }\n",
       "\n",
       "    .dataframe thead th {\n",
       "        text-align: right;\n",
       "    }\n",
       "</style>\n",
       "<table border=\"1\" class=\"dataframe\">\n",
       "  <thead>\n",
       "    <tr style=\"text-align: right;\">\n",
       "      <th></th>\n",
       "      <th>Order ID</th>\n",
       "      <th>Ship Mode</th>\n",
       "      <th>Customer ID</th>\n",
       "      <th>Customer Name</th>\n",
       "      <th>Segment</th>\n",
       "      <th>City</th>\n",
       "      <th>State</th>\n",
       "      <th>Country</th>\n",
       "      <th>Market</th>\n",
       "      <th>Region</th>\n",
       "      <th>Product ID</th>\n",
       "      <th>Category</th>\n",
       "      <th>Sub-Category</th>\n",
       "      <th>Product Name</th>\n",
       "      <th>Order Priority</th>\n",
       "    </tr>\n",
       "  </thead>\n",
       "  <tbody>\n",
       "    <tr>\n",
       "      <th>26583</th>\n",
       "      <td>553</td>\n",
       "      <td>0</td>\n",
       "      <td>489</td>\n",
       "      <td>372</td>\n",
       "      <td>1</td>\n",
       "      <td>648</td>\n",
       "      <td>15</td>\n",
       "      <td>29</td>\n",
       "      <td>4</td>\n",
       "      <td>3</td>\n",
       "      <td>1057</td>\n",
       "      <td>1</td>\n",
       "      <td>12</td>\n",
       "      <td>57</td>\n",
       "      <td>0</td>\n",
       "    </tr>\n",
       "    <tr>\n",
       "      <th>26586</th>\n",
       "      <td>651</td>\n",
       "      <td>3</td>\n",
       "      <td>377</td>\n",
       "      <td>280</td>\n",
       "      <td>0</td>\n",
       "      <td>101</td>\n",
       "      <td>221</td>\n",
       "      <td>36</td>\n",
       "      <td>0</td>\n",
       "      <td>4</td>\n",
       "      <td>445</td>\n",
       "      <td>1</td>\n",
       "      <td>5</td>\n",
       "      <td>471</td>\n",
       "      <td>0</td>\n",
       "    </tr>\n",
       "    <tr>\n",
       "      <th>26587</th>\n",
       "      <td>647</td>\n",
       "      <td>0</td>\n",
       "      <td>326</td>\n",
       "      <td>261</td>\n",
       "      <td>0</td>\n",
       "      <td>3</td>\n",
       "      <td>345</td>\n",
       "      <td>4</td>\n",
       "      <td>0</td>\n",
       "      <td>9</td>\n",
       "      <td>392</td>\n",
       "      <td>1</td>\n",
       "      <td>3</td>\n",
       "      <td>19</td>\n",
       "      <td>0</td>\n",
       "    </tr>\n",
       "    <tr>\n",
       "      <th>26610</th>\n",
       "      <td>1089</td>\n",
       "      <td>3</td>\n",
       "      <td>763</td>\n",
       "      <td>622</td>\n",
       "      <td>0</td>\n",
       "      <td>320</td>\n",
       "      <td>324</td>\n",
       "      <td>27</td>\n",
       "      <td>5</td>\n",
       "      <td>3</td>\n",
       "      <td>224</td>\n",
       "      <td>1</td>\n",
       "      <td>2</td>\n",
       "      <td>642</td>\n",
       "      <td>1</td>\n",
       "    </tr>\n",
       "    <tr>\n",
       "      <th>26611</th>\n",
       "      <td>1183</td>\n",
       "      <td>0</td>\n",
       "      <td>140</td>\n",
       "      <td>134</td>\n",
       "      <td>0</td>\n",
       "      <td>288</td>\n",
       "      <td>143</td>\n",
       "      <td>21</td>\n",
       "      <td>5</td>\n",
       "      <td>2</td>\n",
       "      <td>800</td>\n",
       "      <td>1</td>\n",
       "      <td>9</td>\n",
       "      <td>806</td>\n",
       "      <td>0</td>\n",
       "    </tr>\n",
       "  </tbody>\n",
       "</table>\n",
       "</div>"
      ],
      "text/plain": [
       "       Order ID  Ship Mode  Customer ID  Customer Name  Segment  City  State  \\\n",
       "26583       553          0          489            372        1   648     15   \n",
       "26586       651          3          377            280        0   101    221   \n",
       "26587       647          0          326            261        0     3    345   \n",
       "26610      1089          3          763            622        0   320    324   \n",
       "26611      1183          0          140            134        0   288    143   \n",
       "\n",
       "       Country  Market  Region  Product ID  Category  Sub-Category  \\\n",
       "26583       29       4       3        1057         1            12   \n",
       "26586       36       0       4         445         1             5   \n",
       "26587        4       0       9         392         1             3   \n",
       "26610       27       5       3         224         1             2   \n",
       "26611       21       5       2         800         1             9   \n",
       "\n",
       "       Product Name  Order Priority  \n",
       "26583            57               0  \n",
       "26586           471               0  \n",
       "26587            19               0  \n",
       "26610           642               1  \n",
       "26611           806               0  "
      ]
     },
     "execution_count": 51,
     "metadata": {},
     "output_type": "execute_result"
    }
   ],
   "source": [
    "df4_cat_e.head()"
   ]
  },
  {
   "cell_type": "code",
   "execution_count": 52,
   "id": "3c57d535",
   "metadata": {},
   "outputs": [],
   "source": [
    "d1=df4_cat_e.reset_index()"
   ]
  },
  {
   "cell_type": "code",
   "execution_count": 53,
   "id": "7cf3dc16",
   "metadata": {},
   "outputs": [
    {
     "data": {
      "text/html": [
       "<div>\n",
       "<style scoped>\n",
       "    .dataframe tbody tr th:only-of-type {\n",
       "        vertical-align: middle;\n",
       "    }\n",
       "\n",
       "    .dataframe tbody tr th {\n",
       "        vertical-align: top;\n",
       "    }\n",
       "\n",
       "    .dataframe thead th {\n",
       "        text-align: right;\n",
       "    }\n",
       "</style>\n",
       "<table border=\"1\" class=\"dataframe\">\n",
       "  <thead>\n",
       "    <tr style=\"text-align: right;\">\n",
       "      <th></th>\n",
       "      <th>index</th>\n",
       "      <th>Order ID</th>\n",
       "      <th>Ship Mode</th>\n",
       "      <th>Customer ID</th>\n",
       "      <th>Customer Name</th>\n",
       "      <th>Segment</th>\n",
       "      <th>City</th>\n",
       "      <th>State</th>\n",
       "      <th>Country</th>\n",
       "      <th>Market</th>\n",
       "      <th>Region</th>\n",
       "      <th>Product ID</th>\n",
       "      <th>Category</th>\n",
       "      <th>Sub-Category</th>\n",
       "      <th>Product Name</th>\n",
       "      <th>Order Priority</th>\n",
       "    </tr>\n",
       "  </thead>\n",
       "  <tbody>\n",
       "    <tr>\n",
       "      <th>0</th>\n",
       "      <td>26583</td>\n",
       "      <td>553</td>\n",
       "      <td>0</td>\n",
       "      <td>489</td>\n",
       "      <td>372</td>\n",
       "      <td>1</td>\n",
       "      <td>648</td>\n",
       "      <td>15</td>\n",
       "      <td>29</td>\n",
       "      <td>4</td>\n",
       "      <td>3</td>\n",
       "      <td>1057</td>\n",
       "      <td>1</td>\n",
       "      <td>12</td>\n",
       "      <td>57</td>\n",
       "      <td>0</td>\n",
       "    </tr>\n",
       "    <tr>\n",
       "      <th>1</th>\n",
       "      <td>26586</td>\n",
       "      <td>651</td>\n",
       "      <td>3</td>\n",
       "      <td>377</td>\n",
       "      <td>280</td>\n",
       "      <td>0</td>\n",
       "      <td>101</td>\n",
       "      <td>221</td>\n",
       "      <td>36</td>\n",
       "      <td>0</td>\n",
       "      <td>4</td>\n",
       "      <td>445</td>\n",
       "      <td>1</td>\n",
       "      <td>5</td>\n",
       "      <td>471</td>\n",
       "      <td>0</td>\n",
       "    </tr>\n",
       "    <tr>\n",
       "      <th>2</th>\n",
       "      <td>26587</td>\n",
       "      <td>647</td>\n",
       "      <td>0</td>\n",
       "      <td>326</td>\n",
       "      <td>261</td>\n",
       "      <td>0</td>\n",
       "      <td>3</td>\n",
       "      <td>345</td>\n",
       "      <td>4</td>\n",
       "      <td>0</td>\n",
       "      <td>9</td>\n",
       "      <td>392</td>\n",
       "      <td>1</td>\n",
       "      <td>3</td>\n",
       "      <td>19</td>\n",
       "      <td>0</td>\n",
       "    </tr>\n",
       "    <tr>\n",
       "      <th>3</th>\n",
       "      <td>26610</td>\n",
       "      <td>1089</td>\n",
       "      <td>3</td>\n",
       "      <td>763</td>\n",
       "      <td>622</td>\n",
       "      <td>0</td>\n",
       "      <td>320</td>\n",
       "      <td>324</td>\n",
       "      <td>27</td>\n",
       "      <td>5</td>\n",
       "      <td>3</td>\n",
       "      <td>224</td>\n",
       "      <td>1</td>\n",
       "      <td>2</td>\n",
       "      <td>642</td>\n",
       "      <td>1</td>\n",
       "    </tr>\n",
       "    <tr>\n",
       "      <th>4</th>\n",
       "      <td>26611</td>\n",
       "      <td>1183</td>\n",
       "      <td>0</td>\n",
       "      <td>140</td>\n",
       "      <td>134</td>\n",
       "      <td>0</td>\n",
       "      <td>288</td>\n",
       "      <td>143</td>\n",
       "      <td>21</td>\n",
       "      <td>5</td>\n",
       "      <td>2</td>\n",
       "      <td>800</td>\n",
       "      <td>1</td>\n",
       "      <td>9</td>\n",
       "      <td>806</td>\n",
       "      <td>0</td>\n",
       "    </tr>\n",
       "  </tbody>\n",
       "</table>\n",
       "</div>"
      ],
      "text/plain": [
       "   index  Order ID  Ship Mode  Customer ID  Customer Name  Segment  City  \\\n",
       "0  26583       553          0          489            372        1   648   \n",
       "1  26586       651          3          377            280        0   101   \n",
       "2  26587       647          0          326            261        0     3   \n",
       "3  26610      1089          3          763            622        0   320   \n",
       "4  26611      1183          0          140            134        0   288   \n",
       "\n",
       "   State  Country  Market  Region  Product ID  Category  Sub-Category  \\\n",
       "0     15       29       4       3        1057         1            12   \n",
       "1    221       36       0       4         445         1             5   \n",
       "2    345        4       0       9         392         1             3   \n",
       "3    324       27       5       3         224         1             2   \n",
       "4    143       21       5       2         800         1             9   \n",
       "\n",
       "   Product Name  Order Priority  \n",
       "0            57               0  \n",
       "1           471               0  \n",
       "2            19               0  \n",
       "3           642               1  \n",
       "4           806               0  "
      ]
     },
     "execution_count": 53,
     "metadata": {},
     "output_type": "execute_result"
    }
   ],
   "source": [
    "d1.head()"
   ]
  },
  {
   "cell_type": "code",
   "execution_count": 54,
   "id": "b08d2c13",
   "metadata": {},
   "outputs": [],
   "source": [
    "d1.drop([\"index\"],axis=1,inplace=True)"
   ]
  },
  {
   "cell_type": "code",
   "execution_count": 55,
   "id": "2187d1b9",
   "metadata": {},
   "outputs": [],
   "source": [
    "df_final=pd.concat([df4_num_mm_sc,d1],axis=1)"
   ]
  },
  {
   "cell_type": "code",
   "execution_count": 56,
   "id": "ff47836e",
   "metadata": {},
   "outputs": [],
   "source": [
    "df_final.rename(columns={0:\"Sales\",1:\"Quantity\",2:\"Discount\",3:\"Profit\",4:\"Shipping Cost\"},inplace=True)"
   ]
  },
  {
   "cell_type": "code",
   "execution_count": 57,
   "id": "42364024",
   "metadata": {},
   "outputs": [
    {
     "data": {
      "text/html": [
       "<div>\n",
       "<style scoped>\n",
       "    .dataframe tbody tr th:only-of-type {\n",
       "        vertical-align: middle;\n",
       "    }\n",
       "\n",
       "    .dataframe tbody tr th {\n",
       "        vertical-align: top;\n",
       "    }\n",
       "\n",
       "    .dataframe thead th {\n",
       "        text-align: right;\n",
       "    }\n",
       "</style>\n",
       "<table border=\"1\" class=\"dataframe\">\n",
       "  <thead>\n",
       "    <tr style=\"text-align: right;\">\n",
       "      <th></th>\n",
       "      <th>Sales</th>\n",
       "      <th>Quantity</th>\n",
       "      <th>Discount</th>\n",
       "      <th>Profit</th>\n",
       "      <th>Shipping Cost</th>\n",
       "      <th>Order ID</th>\n",
       "      <th>Ship Mode</th>\n",
       "      <th>Customer ID</th>\n",
       "      <th>Customer Name</th>\n",
       "      <th>Segment</th>\n",
       "      <th>City</th>\n",
       "      <th>State</th>\n",
       "      <th>Country</th>\n",
       "      <th>Market</th>\n",
       "      <th>Region</th>\n",
       "      <th>Product ID</th>\n",
       "      <th>Category</th>\n",
       "      <th>Sub-Category</th>\n",
       "      <th>Product Name</th>\n",
       "      <th>Order Priority</th>\n",
       "    </tr>\n",
       "  </thead>\n",
       "  <tbody>\n",
       "    <tr>\n",
       "      <th>0</th>\n",
       "      <td>0.135270</td>\n",
       "      <td>0.0</td>\n",
       "      <td>0.0</td>\n",
       "      <td>0.036214</td>\n",
       "      <td>1.000000</td>\n",
       "      <td>553</td>\n",
       "      <td>0</td>\n",
       "      <td>489</td>\n",
       "      <td>372</td>\n",
       "      <td>1</td>\n",
       "      <td>648</td>\n",
       "      <td>15</td>\n",
       "      <td>29</td>\n",
       "      <td>4</td>\n",
       "      <td>3</td>\n",
       "      <td>1057</td>\n",
       "      <td>1</td>\n",
       "      <td>12</td>\n",
       "      <td>57</td>\n",
       "      <td>0</td>\n",
       "    </tr>\n",
       "    <tr>\n",
       "      <th>1</th>\n",
       "      <td>0.335270</td>\n",
       "      <td>0.5</td>\n",
       "      <td>0.0</td>\n",
       "      <td>0.249383</td>\n",
       "      <td>1.000000</td>\n",
       "      <td>651</td>\n",
       "      <td>3</td>\n",
       "      <td>377</td>\n",
       "      <td>280</td>\n",
       "      <td>0</td>\n",
       "      <td>101</td>\n",
       "      <td>221</td>\n",
       "      <td>36</td>\n",
       "      <td>0</td>\n",
       "      <td>4</td>\n",
       "      <td>445</td>\n",
       "      <td>1</td>\n",
       "      <td>5</td>\n",
       "      <td>471</td>\n",
       "      <td>0</td>\n",
       "    </tr>\n",
       "    <tr>\n",
       "      <th>2</th>\n",
       "      <td>0.238797</td>\n",
       "      <td>0.5</td>\n",
       "      <td>0.2</td>\n",
       "      <td>0.260494</td>\n",
       "      <td>1.000000</td>\n",
       "      <td>647</td>\n",
       "      <td>0</td>\n",
       "      <td>326</td>\n",
       "      <td>261</td>\n",
       "      <td>0</td>\n",
       "      <td>3</td>\n",
       "      <td>345</td>\n",
       "      <td>4</td>\n",
       "      <td>0</td>\n",
       "      <td>9</td>\n",
       "      <td>392</td>\n",
       "      <td>1</td>\n",
       "      <td>3</td>\n",
       "      <td>19</td>\n",
       "      <td>0</td>\n",
       "    </tr>\n",
       "    <tr>\n",
       "      <th>3</th>\n",
       "      <td>0.387552</td>\n",
       "      <td>0.5</td>\n",
       "      <td>0.0</td>\n",
       "      <td>0.622222</td>\n",
       "      <td>0.998675</td>\n",
       "      <td>1089</td>\n",
       "      <td>3</td>\n",
       "      <td>763</td>\n",
       "      <td>622</td>\n",
       "      <td>0</td>\n",
       "      <td>320</td>\n",
       "      <td>324</td>\n",
       "      <td>27</td>\n",
       "      <td>5</td>\n",
       "      <td>3</td>\n",
       "      <td>224</td>\n",
       "      <td>1</td>\n",
       "      <td>2</td>\n",
       "      <td>642</td>\n",
       "      <td>1</td>\n",
       "    </tr>\n",
       "    <tr>\n",
       "      <th>4</th>\n",
       "      <td>0.161826</td>\n",
       "      <td>0.5</td>\n",
       "      <td>0.0</td>\n",
       "      <td>0.251852</td>\n",
       "      <td>0.997792</td>\n",
       "      <td>1183</td>\n",
       "      <td>0</td>\n",
       "      <td>140</td>\n",
       "      <td>134</td>\n",
       "      <td>0</td>\n",
       "      <td>288</td>\n",
       "      <td>143</td>\n",
       "      <td>21</td>\n",
       "      <td>5</td>\n",
       "      <td>2</td>\n",
       "      <td>800</td>\n",
       "      <td>1</td>\n",
       "      <td>9</td>\n",
       "      <td>806</td>\n",
       "      <td>0</td>\n",
       "    </tr>\n",
       "  </tbody>\n",
       "</table>\n",
       "</div>"
      ],
      "text/plain": [
       "      Sales  Quantity  Discount    Profit  Shipping Cost  Order ID  Ship Mode  \\\n",
       "0  0.135270       0.0       0.0  0.036214       1.000000       553          0   \n",
       "1  0.335270       0.5       0.0  0.249383       1.000000       651          3   \n",
       "2  0.238797       0.5       0.2  0.260494       1.000000       647          0   \n",
       "3  0.387552       0.5       0.0  0.622222       0.998675      1089          3   \n",
       "4  0.161826       0.5       0.0  0.251852       0.997792      1183          0   \n",
       "\n",
       "   Customer ID  Customer Name  Segment  City  State  Country  Market  Region  \\\n",
       "0          489            372        1   648     15       29       4       3   \n",
       "1          377            280        0   101    221       36       0       4   \n",
       "2          326            261        0     3    345        4       0       9   \n",
       "3          763            622        0   320    324       27       5       3   \n",
       "4          140            134        0   288    143       21       5       2   \n",
       "\n",
       "   Product ID  Category  Sub-Category  Product Name  Order Priority  \n",
       "0        1057         1            12            57               0  \n",
       "1         445         1             5           471               0  \n",
       "2         392         1             3            19               0  \n",
       "3         224         1             2           642               1  \n",
       "4         800         1             9           806               0  "
      ]
     },
     "execution_count": 57,
     "metadata": {},
     "output_type": "execute_result"
    }
   ],
   "source": [
    "df_final.head()"
   ]
  },
  {
   "cell_type": "code",
   "execution_count": 58,
   "id": "d33b3d03",
   "metadata": {},
   "outputs": [
    {
     "data": {
      "text/plain": [
       "Sales             0\n",
       "Quantity          0\n",
       "Discount          0\n",
       "Profit            0\n",
       "Shipping Cost     0\n",
       "Order ID          0\n",
       "Ship Mode         0\n",
       "Customer ID       0\n",
       "Customer Name     0\n",
       "Segment           0\n",
       "City              0\n",
       "State             0\n",
       "Country           0\n",
       "Market            0\n",
       "Region            0\n",
       "Product ID        0\n",
       "Category          0\n",
       "Sub-Category      0\n",
       "Product Name      0\n",
       "Order Priority    0\n",
       "dtype: int64"
      ]
     },
     "execution_count": 58,
     "metadata": {},
     "output_type": "execute_result"
    }
   ],
   "source": [
    "df_final.isnull().sum()"
   ]
  },
  {
   "cell_type": "code",
   "execution_count": 59,
   "id": "30140042",
   "metadata": {},
   "outputs": [
    {
     "data": {
      "text/plain": [
       "array([0, 1])"
      ]
     },
     "execution_count": 59,
     "metadata": {},
     "output_type": "execute_result"
    }
   ],
   "source": [
    "df_final[\"Order Priority\"].unique()"
   ]
  },
  {
   "cell_type": "code",
   "execution_count": 60,
   "id": "d161f78d",
   "metadata": {},
   "outputs": [],
   "source": [
    "X=df_final.drop([\"Order Priority\"],axis=1)\n",
    "Y=df_final[\"Order Priority\"]"
   ]
  },
  {
   "cell_type": "code",
   "execution_count": 61,
   "id": "09647eb8",
   "metadata": {},
   "outputs": [],
   "source": [
    "from sklearn.model_selection import train_test_split"
   ]
  },
  {
   "cell_type": "code",
   "execution_count": 62,
   "id": "14d13ef3",
   "metadata": {},
   "outputs": [],
   "source": [
    "X_train, X_test, y_train, y_test = train_test_split(X, Y, test_size=0.3, random_state=1, stratify = Y)"
   ]
  },
  {
   "cell_type": "code",
   "execution_count": null,
   "id": "89e2b2ee",
   "metadata": {},
   "outputs": [],
   "source": []
  },
  {
   "cell_type": "code",
   "execution_count": null,
   "id": "396b9f53",
   "metadata": {},
   "outputs": [],
   "source": []
  },
  {
   "cell_type": "code",
   "execution_count": null,
   "id": "b0d616e9",
   "metadata": {},
   "outputs": [],
   "source": []
  },
  {
   "cell_type": "code",
   "execution_count": null,
   "id": "c6aa3926",
   "metadata": {},
   "outputs": [],
   "source": []
  },
  {
   "cell_type": "markdown",
   "id": "702e0e50",
   "metadata": {},
   "source": [
    "# modeling"
   ]
  },
  {
   "cell_type": "code",
   "execution_count": 63,
   "id": "738445a4",
   "metadata": {},
   "outputs": [],
   "source": [
    "from sklearn.tree import DecisionTreeClassifier\n",
    "from sklearn.linear_model import LogisticRegression\n",
    "from sklearn.ensemble import RandomForestClassifier"
   ]
  },
  {
   "cell_type": "code",
   "execution_count": 64,
   "id": "3c9ce29e",
   "metadata": {},
   "outputs": [],
   "source": [
    "from sklearn.linear_model import LogisticRegression"
   ]
  },
  {
   "cell_type": "code",
   "execution_count": 65,
   "id": "17f22104",
   "metadata": {},
   "outputs": [],
   "source": [
    "lr = LogisticRegression()"
   ]
  },
  {
   "cell_type": "code",
   "execution_count": 66,
   "id": "82ed5796",
   "metadata": {},
   "outputs": [],
   "source": [
    "dtr=DecisionTreeClassifier(criterion=\"gini\")"
   ]
  },
  {
   "cell_type": "code",
   "execution_count": 67,
   "id": "0d707244",
   "metadata": {},
   "outputs": [],
   "source": [
    "rf=RandomForestClassifier(n_estimators=100,random_state=50)"
   ]
  },
  {
   "cell_type": "code",
   "execution_count": 68,
   "id": "197553a8",
   "metadata": {},
   "outputs": [
    {
     "name": "stderr",
     "output_type": "stream",
     "text": [
      "C:\\Users\\Lalith Eswar\\anaconda3\\lib\\site-packages\\sklearn\\linear_model\\_logistic.py:814: ConvergenceWarning: lbfgs failed to converge (status=1):\n",
      "STOP: TOTAL NO. of ITERATIONS REACHED LIMIT.\n",
      "\n",
      "Increase the number of iterations (max_iter) or scale the data as shown in:\n",
      "    https://scikit-learn.org/stable/modules/preprocessing.html\n",
      "Please also refer to the documentation for alternative solver options:\n",
      "    https://scikit-learn.org/stable/modules/linear_model.html#logistic-regression\n",
      "  n_iter_i = _check_optimize_result(\n"
     ]
    }
   ],
   "source": [
    "lrm_model = lr.fit(X_train,y_train)"
   ]
  },
  {
   "cell_type": "code",
   "execution_count": 69,
   "id": "3efb7490",
   "metadata": {},
   "outputs": [],
   "source": [
    "dtm_model =dtr.fit(X_train,y_train)"
   ]
  },
  {
   "cell_type": "code",
   "execution_count": 70,
   "id": "a760cd40",
   "metadata": {},
   "outputs": [],
   "source": [
    "rfm_model = rf.fit(X_train,y_train)"
   ]
  },
  {
   "cell_type": "code",
   "execution_count": 71,
   "id": "d05e9e30",
   "metadata": {},
   "outputs": [
    {
     "data": {
      "text/plain": [
       "0.8428290766208252"
      ]
     },
     "execution_count": 71,
     "metadata": {},
     "output_type": "execute_result"
    }
   ],
   "source": [
    "lr.score(X_train,y_train)"
   ]
  },
  {
   "cell_type": "code",
   "execution_count": 72,
   "id": "3e2d6a04",
   "metadata": {},
   "outputs": [
    {
     "data": {
      "text/plain": [
       "1.0"
      ]
     },
     "execution_count": 72,
     "metadata": {},
     "output_type": "execute_result"
    }
   ],
   "source": [
    "dtr.score(X_train,y_train)"
   ]
  },
  {
   "cell_type": "code",
   "execution_count": 73,
   "id": "d1010bb6",
   "metadata": {},
   "outputs": [
    {
     "data": {
      "text/plain": [
       "1.0"
      ]
     },
     "execution_count": 73,
     "metadata": {},
     "output_type": "execute_result"
    }
   ],
   "source": [
    "rf.score(X_train,y_train)"
   ]
  },
  {
   "cell_type": "code",
   "execution_count": 74,
   "id": "2bfc4991",
   "metadata": {},
   "outputs": [],
   "source": [
    "from sklearn.svm import SVC"
   ]
  },
  {
   "cell_type": "code",
   "execution_count": 75,
   "id": "bb907737",
   "metadata": {},
   "outputs": [],
   "source": [
    "svm = SVC(kernel= 'linear', random_state=1, C=0.1) #kernel 'linear','rbf'"
   ]
  },
  {
   "cell_type": "code",
   "execution_count": 76,
   "id": "a7b05f73",
   "metadata": {},
   "outputs": [],
   "source": [
    "#svm_model = svm.fit(X,Y)"
   ]
  },
  {
   "cell_type": "code",
   "execution_count": 77,
   "id": "6b8955ae",
   "metadata": {},
   "outputs": [],
   "source": [
    "from sklearn.neighbors import KNeighborsClassifier"
   ]
  },
  {
   "cell_type": "code",
   "execution_count": 78,
   "id": "9e911a79",
   "metadata": {},
   "outputs": [],
   "source": [
    "knn_model = KNeighborsClassifier(n_neighbors=4)"
   ]
  },
  {
   "cell_type": "code",
   "execution_count": 79,
   "id": "5c413862",
   "metadata": {},
   "outputs": [],
   "source": [
    "knn_m=knn_model.fit(X_train,y_train)"
   ]
  },
  {
   "cell_type": "code",
   "execution_count": 80,
   "id": "82223643",
   "metadata": {},
   "outputs": [
    {
     "data": {
      "text/plain": [
       "0.869351669941061"
      ]
     },
     "execution_count": 80,
     "metadata": {},
     "output_type": "execute_result"
    }
   ],
   "source": [
    "knn_model.score(X_train,y_train)"
   ]
  },
  {
   "cell_type": "code",
   "execution_count": 81,
   "id": "7b4dbfc9",
   "metadata": {},
   "outputs": [],
   "source": [
    "y_pre=knn_model.predict(X_test)"
   ]
  },
  {
   "cell_type": "code",
   "execution_count": 82,
   "id": "89d0e736",
   "metadata": {},
   "outputs": [],
   "source": [
    "from sklearn.metrics import confusion_matrix"
   ]
  },
  {
   "cell_type": "code",
   "execution_count": 83,
   "id": "a9b5a990",
   "metadata": {},
   "outputs": [
    {
     "data": {
      "text/plain": [
       "array([[369,   6],\n",
       "       [ 62,   0]], dtype=int64)"
      ]
     },
     "execution_count": 83,
     "metadata": {},
     "output_type": "execute_result"
    }
   ],
   "source": [
    "confusion_matrix(y_test, y_pre)"
   ]
  },
  {
   "cell_type": "code",
   "execution_count": 84,
   "id": "5e7b8c14",
   "metadata": {},
   "outputs": [],
   "source": [
    "from sklearn.metrics import accuracy_score  "
   ]
  },
  {
   "cell_type": "code",
   "execution_count": 99,
   "id": "f7be3018",
   "metadata": {},
   "outputs": [],
   "source": [
    "from sklearn.metrics import f1_score  "
   ]
  },
  {
   "cell_type": "code",
   "execution_count": 100,
   "id": "7f9861bf",
   "metadata": {},
   "outputs": [
    {
     "data": {
      "text/plain": [
       "0.0"
      ]
     },
     "execution_count": 100,
     "metadata": {},
     "output_type": "execute_result"
    }
   ],
   "source": [
    "f1_score(y_test, y_pre) "
   ]
  },
  {
   "cell_type": "code",
   "execution_count": 85,
   "id": "4b201305",
   "metadata": {},
   "outputs": [
    {
     "data": {
      "text/plain": [
       "0.8443935926773455"
      ]
     },
     "execution_count": 85,
     "metadata": {},
     "output_type": "execute_result"
    }
   ],
   "source": [
    "accuracy_score(y_test, y_pre)  "
   ]
  },
  {
   "cell_type": "code",
   "execution_count": 93,
   "id": "2086416b",
   "metadata": {},
   "outputs": [
    {
     "data": {
      "text/html": [
       "<div>\n",
       "<style scoped>\n",
       "    .dataframe tbody tr th:only-of-type {\n",
       "        vertical-align: middle;\n",
       "    }\n",
       "\n",
       "    .dataframe tbody tr th {\n",
       "        vertical-align: top;\n",
       "    }\n",
       "\n",
       "    .dataframe thead th {\n",
       "        text-align: right;\n",
       "    }\n",
       "</style>\n",
       "<table border=\"1\" class=\"dataframe\">\n",
       "  <thead>\n",
       "    <tr style=\"text-align: right;\">\n",
       "      <th></th>\n",
       "      <th>res</th>\n",
       "    </tr>\n",
       "  </thead>\n",
       "  <tbody>\n",
       "    <tr>\n",
       "      <th>count</th>\n",
       "      <td>437.000000</td>\n",
       "    </tr>\n",
       "    <tr>\n",
       "      <th>mean</th>\n",
       "      <td>0.013730</td>\n",
       "    </tr>\n",
       "    <tr>\n",
       "      <th>std</th>\n",
       "      <td>0.116501</td>\n",
       "    </tr>\n",
       "    <tr>\n",
       "      <th>min</th>\n",
       "      <td>0.000000</td>\n",
       "    </tr>\n",
       "    <tr>\n",
       "      <th>25%</th>\n",
       "      <td>0.000000</td>\n",
       "    </tr>\n",
       "    <tr>\n",
       "      <th>50%</th>\n",
       "      <td>0.000000</td>\n",
       "    </tr>\n",
       "    <tr>\n",
       "      <th>75%</th>\n",
       "      <td>0.000000</td>\n",
       "    </tr>\n",
       "    <tr>\n",
       "      <th>max</th>\n",
       "      <td>1.000000</td>\n",
       "    </tr>\n",
       "  </tbody>\n",
       "</table>\n",
       "</div>"
      ],
      "text/plain": [
       "              res\n",
       "count  437.000000\n",
       "mean     0.013730\n",
       "std      0.116501\n",
       "min      0.000000\n",
       "25%      0.000000\n",
       "50%      0.000000\n",
       "75%      0.000000\n",
       "max      1.000000"
      ]
     },
     "execution_count": 93,
     "metadata": {},
     "output_type": "execute_result"
    }
   ],
   "source": [
    "pd.DataFrame({\"res\":y_pre}).describe()"
   ]
  },
  {
   "cell_type": "code",
   "execution_count": 97,
   "id": "64635887",
   "metadata": {},
   "outputs": [
    {
     "data": {
      "text/plain": [
       "0      0\n",
       "1      0\n",
       "2      0\n",
       "3      0\n",
       "4      0\n",
       "      ..\n",
       "432    0\n",
       "433    0\n",
       "434    0\n",
       "435    0\n",
       "436    0\n",
       "Length: 437, dtype: int32"
      ]
     },
     "execution_count": 97,
     "metadata": {},
     "output_type": "execute_result"
    }
   ],
   "source": [
    "pd.Series(y_pre)"
   ]
  },
  {
   "cell_type": "code",
   "execution_count": 98,
   "id": "4832d744",
   "metadata": {},
   "outputs": [
    {
     "data": {
      "text/plain": [
       "0.0"
      ]
     },
     "execution_count": 98,
     "metadata": {},
     "output_type": "execute_result"
    }
   ],
   "source": [
    "from sklearn.metrics import precision_score, recall_score\n",
    "precision_score(y_test, pd.Series(y_pre))"
   ]
  },
  {
   "cell_type": "code",
   "execution_count": 87,
   "id": "82630aa9",
   "metadata": {},
   "outputs": [
    {
     "data": {
      "text/plain": [
       "0.0"
      ]
     },
     "execution_count": 87,
     "metadata": {},
     "output_type": "execute_result"
    }
   ],
   "source": [
    "recall_score(y_test, y_pre)"
   ]
  }
 ],
 "metadata": {
  "kernelspec": {
   "display_name": "Python 3 (ipykernel)",
   "language": "python",
   "name": "python3"
  },
  "language_info": {
   "codemirror_mode": {
    "name": "ipython",
    "version": 3
   },
   "file_extension": ".py",
   "mimetype": "text/x-python",
   "name": "python",
   "nbconvert_exporter": "python",
   "pygments_lexer": "ipython3",
   "version": "3.9.12"
  }
 },
 "nbformat": 4,
 "nbformat_minor": 5
}
